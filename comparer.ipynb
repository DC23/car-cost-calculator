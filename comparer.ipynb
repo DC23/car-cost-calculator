{
 "cells": [
  {
   "cell_type": "code",
   "execution_count": 70,
   "metadata": {},
   "outputs": [],
   "source": [
    "import matplotlib.pyplot as plt\n",
    "import numpy as np\n",
    "import pandas as pd\n",
    "\n",
    "from datetime import datetime\n",
    "\n",
    "%matplotlib inline"
   ]
  },
  {
   "cell_type": "markdown",
   "metadata": {},
   "source": [
    "### Assumptions"
   ]
  },
  {
   "cell_type": "code",
   "execution_count": 24,
   "metadata": {},
   "outputs": [],
   "source": [
    "km_per_year = 15000"
   ]
  },
  {
   "cell_type": "markdown",
   "metadata": {},
   "source": [
    "### Depreciation functions"
   ]
  },
  {
   "cell_type": "code",
   "execution_count": 180,
   "metadata": {},
   "outputs": [],
   "source": [
    "def depreciation_rate_for_age(age_in_years):\n",
    "    'Go with the simple assumption of 15% for first 3 years, and 10% after that'\n",
    "    if age_in_years < 3:\n",
    "        return 0.15\n",
    "    else:\n",
    "        return 0.10"
   ]
  },
  {
   "cell_type": "markdown",
   "metadata": {},
   "source": [
    "### Read the tabular data:"
   ]
  },
  {
   "cell_type": "code",
   "execution_count": 294,
   "metadata": {},
   "outputs": [],
   "source": [
    "data = pd.read_excel(\n",
    "    'car_data.xlsx',\n",
    "    usecols=5,  # Skip experimental column values for now\n",
    ")"
   ]
  },
  {
   "cell_type": "code",
   "execution_count": 295,
   "metadata": {},
   "outputs": [
    {
     "data": {
      "text/html": [
       "<div>\n",
       "<style scoped>\n",
       "    .dataframe tbody tr th:only-of-type {\n",
       "        vertical-align: middle;\n",
       "    }\n",
       "\n",
       "    .dataframe tbody tr th {\n",
       "        vertical-align: top;\n",
       "    }\n",
       "\n",
       "    .dataframe thead th {\n",
       "        text-align: right;\n",
       "    }\n",
       "</style>\n",
       "<table border=\"1\" class=\"dataframe\">\n",
       "  <thead>\n",
       "    <tr style=\"text-align: right;\">\n",
       "      <th></th>\n",
       "      <th>make</th>\n",
       "      <th>model</th>\n",
       "      <th>variant</th>\n",
       "      <th>year</th>\n",
       "      <th>purchase_price</th>\n",
       "      <th>fuel_consumption</th>\n",
       "    </tr>\n",
       "  </thead>\n",
       "  <tbody>\n",
       "    <tr>\n",
       "      <th>0</th>\n",
       "      <td>Mazda</td>\n",
       "      <td>Mazda3</td>\n",
       "      <td>Sedan 2.5L</td>\n",
       "      <td>2018</td>\n",
       "      <td>30000</td>\n",
       "      <td>5.8</td>\n",
       "    </tr>\n",
       "    <tr>\n",
       "      <th>1</th>\n",
       "      <td>Mazda</td>\n",
       "      <td>Mazda3</td>\n",
       "      <td>Hatch 2.0L</td>\n",
       "      <td>2018</td>\n",
       "      <td>30000</td>\n",
       "      <td>6.1</td>\n",
       "    </tr>\n",
       "    <tr>\n",
       "      <th>2</th>\n",
       "      <td>Honda</td>\n",
       "      <td>Civic</td>\n",
       "      <td>Sedan VTi-L</td>\n",
       "      <td>2017</td>\n",
       "      <td>25000</td>\n",
       "      <td>6.0</td>\n",
       "    </tr>\n",
       "    <tr>\n",
       "      <th>3</th>\n",
       "      <td>Honda</td>\n",
       "      <td>Civic</td>\n",
       "      <td>Hatch VTi-L</td>\n",
       "      <td>2017</td>\n",
       "      <td>22000</td>\n",
       "      <td>6.0</td>\n",
       "    </tr>\n",
       "    <tr>\n",
       "      <th>4</th>\n",
       "      <td>Honda</td>\n",
       "      <td>HR-V</td>\n",
       "      <td>VTi-S</td>\n",
       "      <td>2017</td>\n",
       "      <td>24000</td>\n",
       "      <td>6.9</td>\n",
       "    </tr>\n",
       "  </tbody>\n",
       "</table>\n",
       "</div>"
      ],
      "text/plain": [
       "    make   model      variant  year  purchase_price  fuel_consumption\n",
       "0  Mazda  Mazda3   Sedan 2.5L  2018           30000               5.8\n",
       "1  Mazda  Mazda3   Hatch 2.0L  2018           30000               6.1\n",
       "2  Honda   Civic  Sedan VTi-L  2017           25000               6.0\n",
       "3  Honda   Civic  Hatch VTi-L  2017           22000               6.0\n",
       "4  Honda    HR-V        VTi-S  2017           24000               6.9"
      ]
     },
     "execution_count": 295,
     "metadata": {},
     "output_type": "execute_result"
    }
   ],
   "source": [
    "data"
   ]
  },
  {
   "cell_type": "markdown",
   "metadata": {},
   "source": [
    "### Calculate Depreciation"
   ]
  },
  {
   "cell_type": "code",
   "execution_count": 296,
   "metadata": {},
   "outputs": [],
   "source": [
    "purchase_price = 25000\n",
    "year_of_purchase = datetime.now().year\n",
    "age_at_purchase = year_of_purchase - 2017\n",
    "num_years = 10"
   ]
  },
  {
   "cell_type": "code",
   "execution_count": 297,
   "metadata": {},
   "outputs": [],
   "source": [
    "values = np.zeros(num_years)\n",
    "values[0] = purchase_price\n",
    "previous = values[0]\n",
    "for i in range(1, num_years):\n",
    "    previous *= (1.0 - depreciation_rate_for_age(age_at_purchase + i))\n",
    "    values[i] = previous"
   ]
  },
  {
   "cell_type": "code",
   "execution_count": 298,
   "metadata": {},
   "outputs": [
    {
     "data": {
      "image/png": "[encoded data removed]",
      "text/plain": [
       "<Figure size 432x288 with 1 Axes>"
      ]
     },
     "metadata": {},
     "output_type": "display_data"
    }
   ],
   "source": [
    "plt.plot(values);"
   ]
  },
  {
   "cell_type": "code",
   "execution_count": 299,
   "metadata": {},
   "outputs": [],
   "source": [
    "depreciated = '{0}yr_value'.format(num_years)\n",
    "data[depreciated] = data.purchase_price"
   ]
  },
  {
   "cell_type": "code",
   "execution_count": 300,
   "metadata": {},
   "outputs": [],
   "source": [
    "for i in range(1, num_years):\n",
    "    data[depreciated] *= (1.0 - depreciation_rate_for_age(age_at_purchase + i))"
   ]
  },
  {
   "cell_type": "code",
   "execution_count": 301,
   "metadata": {},
   "outputs": [],
   "source": [
    "data['depreciation_cost'] = data.purchase_price - data[depreciated]"
   ]
  },
  {
   "cell_type": "code",
   "execution_count": 307,
   "metadata": {},
   "outputs": [
    {
     "data": {
      "text/html": [
       "<div>\n",
       "<style scoped>\n",
       "    .dataframe tbody tr th:only-of-type {\n",
       "        vertical-align: middle;\n",
       "    }\n",
       "\n",
       "    .dataframe tbody tr th {\n",
       "        vertical-align: top;\n",
       "    }\n",
       "\n",
       "    .dataframe thead th {\n",
       "        text-align: right;\n",
       "    }\n",
       "</style>\n",
       "<table border=\"1\" class=\"dataframe\">\n",
       "  <thead>\n",
       "    <tr style=\"text-align: right;\">\n",
       "      <th></th>\n",
       "      <th>make</th>\n",
       "      <th>model</th>\n",
       "      <th>variant</th>\n",
       "      <th>year</th>\n",
       "      <th>purchase_price</th>\n",
       "      <th>fuel_consumption</th>\n",
       "      <th>10yr_value</th>\n",
       "      <th>depreciation_cost</th>\n",
       "    </tr>\n",
       "  </thead>\n",
       "  <tbody>\n",
       "    <tr>\n",
       "      <th>0</th>\n",
       "      <td>Mazda</td>\n",
       "      <td>Mazda3</td>\n",
       "      <td>Sedan 2.5L</td>\n",
       "      <td>2018</td>\n",
       "      <td>30000</td>\n",
       "      <td>5.8</td>\n",
       "      <td>10976.913855</td>\n",
       "      <td>19023.086145</td>\n",
       "    </tr>\n",
       "    <tr>\n",
       "      <th>1</th>\n",
       "      <td>Mazda</td>\n",
       "      <td>Mazda3</td>\n",
       "      <td>Hatch 2.0L</td>\n",
       "      <td>2018</td>\n",
       "      <td>30000</td>\n",
       "      <td>6.1</td>\n",
       "      <td>10976.913855</td>\n",
       "      <td>19023.086145</td>\n",
       "    </tr>\n",
       "    <tr>\n",
       "      <th>2</th>\n",
       "      <td>Honda</td>\n",
       "      <td>Civic</td>\n",
       "      <td>Sedan VTi-L</td>\n",
       "      <td>2017</td>\n",
       "      <td>25000</td>\n",
       "      <td>6.0</td>\n",
       "      <td>9147.428213</td>\n",
       "      <td>15852.571787</td>\n",
       "    </tr>\n",
       "    <tr>\n",
       "      <th>3</th>\n",
       "      <td>Honda</td>\n",
       "      <td>Civic</td>\n",
       "      <td>Hatch VTi-L</td>\n",
       "      <td>2017</td>\n",
       "      <td>22000</td>\n",
       "      <td>6.0</td>\n",
       "      <td>8049.736827</td>\n",
       "      <td>13950.263173</td>\n",
       "    </tr>\n",
       "    <tr>\n",
       "      <th>4</th>\n",
       "      <td>Honda</td>\n",
       "      <td>HR-V</td>\n",
       "      <td>VTi-S</td>\n",
       "      <td>2017</td>\n",
       "      <td>24000</td>\n",
       "      <td>6.9</td>\n",
       "      <td>8781.531084</td>\n",
       "      <td>15218.468916</td>\n",
       "    </tr>\n",
       "  </tbody>\n",
       "</table>\n",
       "</div>"
      ],
      "text/plain": [
       "    make   model      variant  year  purchase_price  fuel_consumption  \\\n",
       "0  Mazda  Mazda3   Sedan 2.5L  2018           30000               5.8   \n",
       "1  Mazda  Mazda3   Hatch 2.0L  2018           30000               6.1   \n",
       "2  Honda   Civic  Sedan VTi-L  2017           25000               6.0   \n",
       "3  Honda   Civic  Hatch VTi-L  2017           22000               6.0   \n",
       "4  Honda    HR-V        VTi-S  2017           24000               6.9   \n",
       "\n",
       "     10yr_value  depreciation_cost  \n",
       "0  10976.913855       19023.086145  \n",
       "1  10976.913855       19023.086145  \n",
       "2   9147.428213       15852.571787  \n",
       "3   8049.736827       13950.263173  \n",
       "4   8781.531084       15218.468916  "
      ]
     },
     "execution_count": 307,
     "metadata": {},
     "output_type": "execute_result"
    }
   ],
   "source": [
    "data"
   ]
  },
  {
   "cell_type": "code",
   "execution_count": null,
   "metadata": {},
   "outputs": [],
   "source": []
  }
 ],
 "metadata": {
  "kernelspec": {
   "display_name": "Python 3",
   "language": "python",
   "name": "python3"
  },
  "language_info": {
   "codemirror_mode": {
    "name": "ipython",
    "version": 3
   },
   "file_extension": ".py",
   "mimetype": "text/x-python",
   "name": "python",
   "nbconvert_exporter": "python",
   "pygments_lexer": "ipython3",
   "version": "3.6.6"
  }
 },
 "nbformat": 4,
 "nbformat_minor": 2
}
