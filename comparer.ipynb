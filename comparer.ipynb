{
 "cells": [
  {
   "cell_type": "markdown",
   "metadata": {},
   "source": [
    "## [Configuration](#Setup)\n",
    "## [Unit Tests](#Tests)\n",
    "## [Inputs](#Assumptions)\n",
    "## Results"
   ]
  },
  {
   "cell_type": "markdown",
   "metadata": {},
   "source": [
    "# Setup"
   ]
  },
  {
   "cell_type": "code",
   "execution_count": 5,
   "metadata": {
    "extensions": {
     "jupyter_dashboards": {
      "version": 1,
      "views": {
       "grid_default": {},
       "report_default": {}
      }
     }
    }
   },
   "outputs": [],
   "source": [
    "import matplotlib\n",
    "import matplotlib.pyplot as plt\n",
    "import numpy as np\n",
    "import pandas as pd\n",
    "import plotly.offline as py\n",
    "import plotly.graph_objs as go\n",
    "\n",
    "from datetime import datetime"
   ]
  },
  {
   "cell_type": "code",
   "execution_count": 6,
   "metadata": {},
   "outputs": [],
   "source": [
    "# set the file name. This needs to be done manually, as Jupyter makes it oddly difficult to query the current notebook filename.\n",
    "__file__ = 'comparer.ipynb'\n",
    "\n",
    "import ipytest.magics\n",
    "import pytest"
   ]
  },
  {
   "cell_type": "code",
   "execution_count": 7,
   "metadata": {},
   "outputs": [
    {
     "data": {
      "text/html": [
       "<style>\n",
       "    .container { width:100% !important; } \n",
       "</style>"
      ],
      "text/plain": [
       "<IPython.core.display.HTML object>"
      ]
     },
     "metadata": {},
     "output_type": "display_data"
    }
   ],
   "source": [
    "%%HTML\n",
    "<style>\n",
    "    .container { width:100% !important; } \n",
    "</style>"
   ]
  },
  {
   "cell_type": "code",
   "execution_count": 8,
   "metadata": {
    "extensions": {
     "jupyter_dashboards": {
      "version": 1,
      "views": {
       "grid_default": {},
       "report_default": {}
      }
     }
    }
   },
   "outputs": [
    {
     "data": {
      "text/html": [
       "<script>requirejs.config({paths: { 'plotly': ['https://cdn.plot.ly/plotly-latest.min']},});if(!window.Plotly) {{require(['plotly'],function(plotly) {window.Plotly=plotly;});}}</script>"
      ],
      "text/vnd.plotly.v1+html": [
       "<script>requirejs.config({paths: { 'plotly': ['https://cdn.plot.ly/plotly-latest.min']},});if(!window.Plotly) {{require(['plotly'],function(plotly) {window.Plotly=plotly;});}}</script>"
      ]
     },
     "metadata": {},
     "output_type": "display_data"
    }
   ],
   "source": [
    "# matplotlib configuration\n",
    "%matplotlib inline\n",
    "matplotlib.style.use('bmh')\n",
    "\n",
    "# Common Plotly configuration\n",
    "py.init_notebook_mode(connected=True)\n",
    "config={\n",
    "    'showLink': False,\n",
    "    'modeBarButtonsToRemove': ['sendDataToCloud', 'hoverClosestCartesian', 'hoverCompareCartesian'],\n",
    "}"
   ]
  },
  {
   "cell_type": "code",
   "execution_count": 9,
   "metadata": {},
   "outputs": [],
   "source": [
    "def line_chart(y, x=None):\n",
    "    py.iplot([{'y':y, 'x':x}], config=config)"
   ]
  },
  {
   "cell_type": "markdown",
   "metadata": {
    "extensions": {
     "jupyter_dashboards": {
      "version": 1,
      "views": {
       "grid_default": {},
       "report_default": {}
      }
     }
    }
   },
   "source": [
    "## Assumptions"
   ]
  },
  {
   "cell_type": "code",
   "execution_count": 10,
   "metadata": {
    "extensions": {
     "jupyter_dashboards": {
      "version": 1,
      "views": {
       "grid_default": {},
       "report_default": {}
      }
     }
    }
   },
   "outputs": [],
   "source": [
    "cpi = 0.028\n",
    "km_per_year = 15000\n",
    "cost_per_tyre = 350\n",
    "tyre_life_km = 45000\n",
    "fuel_cost_per_litre = 1.50\n",
    "fuel_litres_per_100km = 7.0\n",
    "\n",
    "purchase_price = 35000\n",
    "age_at_purchase = 0\n",
    "years_to_model = 15"
   ]
  },
  {
   "cell_type": "markdown",
   "metadata": {
    "extensions": {
     "jupyter_dashboards": {
      "version": 1,
      "views": {
       "grid_default": {},
       "report_default": {}
      }
     }
    }
   },
   "source": [
    "## Standing Costs"
   ]
  },
  {
   "cell_type": "code",
   "execution_count": 11,
   "metadata": {},
   "outputs": [],
   "source": [
    "insurance_per_year = 500\n",
    "registration_per_year = 500\n",
    "service_cost = 400\n",
    "service_interval_km = 10000\n",
    "service_interval_years = 1.0\n",
    "roadside_assist_per_year = 200"
   ]
  },
  {
   "cell_type": "markdown",
   "metadata": {
    "extensions": {
     "jupyter_dashboards": {
      "version": 1,
      "views": {
       "grid_default": {},
       "report_default": {}
      }
     }
    }
   },
   "source": [
    "## Depreciation"
   ]
  },
  {
   "cell_type": "code",
   "execution_count": 12,
   "metadata": {
    "extensions": {
     "jupyter_dashboards": {
      "version": 1,
      "views": {
       "grid_default": {},
       "report_default": {}
      }
     }
    }
   },
   "outputs": [],
   "source": [
    "def depreciation_rate_for_age(age_in_years):\n",
    "    '''Go with the simple assumption of 15% for first 3 years, and 10% after that.\n",
    "       This might be too aggressive, but can fine-tune later.\n",
    "    '''\n",
    "    if age_in_years < 3:\n",
    "        return 0.15\n",
    "    else:\n",
    "        return 0.10"
   ]
  },
  {
   "cell_type": "code",
   "execution_count": 31,
   "metadata": {
    "extensions": {
     "jupyter_dashboards": {
      "version": 1,
      "views": {
       "grid_default": {},
       "report_default": {}
      }
     }
    }
   },
   "outputs": [],
   "source": [
    "def calc_depreciation(\n",
    "    initial_value,\n",
    "    years=10,\n",
    "    dep_rate_func=depreciation_rate_for_age):\n",
    "    \"\"\" Calculates the yearly depreciated value for a range of years, \n",
    "        given an initial value, the number of years, \n",
    "        and a function that gives the depreciation rate for a given year.\n",
    "        \n",
    "        Args:\n",
    "            initial_value (double): the starting value.\n",
    "            years (int): the number of years to calculate.\n",
    "            dep_rate_func (callable): Function accepting a single int that \n",
    "                returns the depreciation rate to use for the given age in years.\n",
    "            \n",
    "        Returns:\n",
    "            dep_value: numpy array containing the depreciated value for each year.\n",
    "            yearly_loss: numpy array containing the depreciation loss for \n",
    "                each year, defined as the difference in value between the \n",
    "                start and end of the year.\n",
    "    \"\"\"\n",
    "    \n",
    "    dep_value = np.zeros(years)\n",
    "    yearly_loss = np.zeros(years)\n",
    "    dep_value[0] = initial_value\n",
    "    previous = dep_value[0]\n",
    "    for yr in range(1, years):\n",
    "        previous *= (1.0 - dep_rate_func(age_at_purchase + yr))\n",
    "        dep_value[yr] = previous\n",
    "        yearly_loss[yr-1] = dep_value[yr-1] - dep_value[yr]\n",
    "        \n",
    "    # `yearly_depreciation_cost` is the depreciation loss for the given year, \n",
    "    # defined as the difference in value between the start and end of the year.\n",
    "    # To calculate the final year loss, we therefore need to calculate the \n",
    "    # depreciated value one year past the range defined by `years_to_model`\n",
    "    yearly_loss[-1] = dep_value[-1] * dep_rate_func(age_at_purchase + years)\n",
    "        \n",
    "    return dep_value, yearly_loss"
   ]
  },
  {
   "cell_type": "markdown",
   "metadata": {
    "extensions": {
     "jupyter_dashboards": {
      "version": 1,
      "views": {
       "grid_default": {},
       "report_default": {}
      }
     }
    }
   },
   "source": [
    "### Calculate Depreciation"
   ]
  },
  {
   "cell_type": "code",
   "execution_count": 32,
   "metadata": {},
   "outputs": [],
   "source": [
    "dep_value, yearly_depreciation_cost = calc_depreciation(purchase_price, years_to_model, depreciation_rate_for_age)"
   ]
  },
  {
   "cell_type": "code",
   "execution_count": 33,
   "metadata": {},
   "outputs": [
    {
     "data": {
      "application/vnd.plotly.v1+json": {
       "data": [
        {
         "type": "scatter",
         "uid": "c88d169a-ab6d-11e8-b8e7-0800279fead2",
         "y": [
          35000,
          29750,
          25287.5,
          22758.75,
          20482.875,
          18434.5875,
          16591.128750000003,
          14932.015875000003,
          13438.814287500003,
          12094.932858750002,
          10885.439572875002,
          9796.895615587502,
          8817.206054028753,
          7935.485448625878,
          7141.9369037632905
         ]
        }
       ],
       "layout": {}
      },
      "text/html": [
       "<div id=\"45c756d2-b3e3-4b6e-94e0-8b62037e7723\" style=\"height: 525px; width: 100%;\" class=\"plotly-graph-div\"></div><script type=\"text/javascript\">require([\"plotly\"], function(Plotly) { window.PLOTLYENV=window.PLOTLYENV || {};window.PLOTLYENV.BASE_URL=\"https://plot.ly\";Plotly.newPlot(\"45c756d2-b3e3-4b6e-94e0-8b62037e7723\", [{\"y\": [35000.0, 29750.0, 25287.5, 22758.75, 20482.875, 18434.5875, 16591.128750000003, 14932.015875000003, 13438.814287500003, 12094.932858750002, 10885.439572875002, 9796.895615587502, 8817.206054028753, 7935.485448625878, 7141.9369037632905], \"type\": \"scatter\", \"uid\": \"c88d169b-ab6d-11e8-b8e7-0800279fead2\"}], {}, {\"showLink\": false, \"linkText\": \"Export to plot.ly\", \"modeBarButtonsToRemove\": [\"sendDataToCloud\", \"hoverClosestCartesian\", \"hoverCompareCartesian\"]})});</script>"
      ],
      "text/vnd.plotly.v1+html": [
       "<div id=\"45c756d2-b3e3-4b6e-94e0-8b62037e7723\" style=\"height: 525px; width: 100%;\" class=\"plotly-graph-div\"></div><script type=\"text/javascript\">require([\"plotly\"], function(Plotly) { window.PLOTLYENV=window.PLOTLYENV || {};window.PLOTLYENV.BASE_URL=\"https://plot.ly\";Plotly.newPlot(\"45c756d2-b3e3-4b6e-94e0-8b62037e7723\", [{\"y\": [35000.0, 29750.0, 25287.5, 22758.75, 20482.875, 18434.5875, 16591.128750000003, 14932.015875000003, 13438.814287500003, 12094.932858750002, 10885.439572875002, 9796.895615587502, 8817.206054028753, 7935.485448625878, 7141.9369037632905], \"type\": \"scatter\", \"uid\": \"c88d169b-ab6d-11e8-b8e7-0800279fead2\"}], {}, {\"showLink\": false, \"linkText\": \"Export to plot.ly\", \"modeBarButtonsToRemove\": [\"sendDataToCloud\", \"hoverClosestCartesian\", \"hoverCompareCartesian\"]})});</script>"
      ]
     },
     "metadata": {},
     "output_type": "display_data"
    }
   ],
   "source": [
    "line_chart(dep_value)"
   ]
  },
  {
   "cell_type": "code",
   "execution_count": 27,
   "metadata": {},
   "outputs": [
    {
     "data": {
      "application/vnd.plotly.v1+json": {
       "data": [
        {
         "type": "scatter",
         "uid": "774c9f6c-ab6d-11e8-b8e7-0800279fead2",
         "y": [
          5250,
          4462.5,
          2528.75,
          2275.875,
          2048.2874999999985,
          1843.458749999998,
          1659.1128750000007,
          1493.2015874999997,
          1343.8814287500009,
          1209.4932858749999,
          1088.5439572875002,
          979.6895615587491,
          881.7206054028748,
          793.5485448625877,
          714.1936903763291
         ]
        }
       ],
       "layout": {}
      },
      "text/html": [
       "<div id=\"981271fd-80af-4367-ab21-12f6191118cb\" style=\"height: 525px; width: 100%;\" class=\"plotly-graph-div\"></div><script type=\"text/javascript\">require([\"plotly\"], function(Plotly) { window.PLOTLYENV=window.PLOTLYENV || {};window.PLOTLYENV.BASE_URL=\"https://plot.ly\";Plotly.newPlot(\"981271fd-80af-4367-ab21-12f6191118cb\", [{\"y\": [5250.0, 4462.5, 2528.75, 2275.875, 2048.2874999999985, 1843.458749999998, 1659.1128750000007, 1493.2015874999997, 1343.8814287500009, 1209.4932858749999, 1088.5439572875002, 979.6895615587491, 881.7206054028748, 793.5485448625877, 714.1936903763291], \"type\": \"scatter\", \"uid\": \"774c9f6d-ab6d-11e8-b8e7-0800279fead2\"}], {}, {\"showLink\": false, \"linkText\": \"Export to plot.ly\", \"modeBarButtonsToRemove\": [\"sendDataToCloud\", \"hoverClosestCartesian\", \"hoverCompareCartesian\"]})});</script>"
      ],
      "text/vnd.plotly.v1+html": [
       "<div id=\"981271fd-80af-4367-ab21-12f6191118cb\" style=\"height: 525px; width: 100%;\" class=\"plotly-graph-div\"></div><script type=\"text/javascript\">require([\"plotly\"], function(Plotly) { window.PLOTLYENV=window.PLOTLYENV || {};window.PLOTLYENV.BASE_URL=\"https://plot.ly\";Plotly.newPlot(\"981271fd-80af-4367-ab21-12f6191118cb\", [{\"y\": [5250.0, 4462.5, 2528.75, 2275.875, 2048.2874999999985, 1843.458749999998, 1659.1128750000007, 1493.2015874999997, 1343.8814287500009, 1209.4932858749999, 1088.5439572875002, 979.6895615587491, 881.7206054028748, 793.5485448625877, 714.1936903763291], \"type\": \"scatter\", \"uid\": \"774c9f6d-ab6d-11e8-b8e7-0800279fead2\"}], {}, {\"showLink\": false, \"linkText\": \"Export to plot.ly\", \"modeBarButtonsToRemove\": [\"sendDataToCloud\", \"hoverClosestCartesian\", \"hoverCompareCartesian\"]})});</script>"
      ]
     },
     "metadata": {},
     "output_type": "display_data"
    }
   ],
   "source": [
    "line_chart(yearly_depreciation_cost)"
   ]
  },
  {
   "cell_type": "markdown",
   "metadata": {},
   "source": [
    "# Experimental Code"
   ]
  },
  {
   "cell_type": "markdown",
   "metadata": {},
   "source": [
    "# Compound interest formula\n",
    "Solves $A = P(1+\\frac{r}{n})^{nt}$ for\n",
    "* P = principal\n",
    "* r = annual rate\n",
    "* n = number of times interest is compounded per year\n",
    "* t = number of years to compound\n",
    "\n",
    "Returns an array giving the value for each year in the sequence."
   ]
  },
  {
   "cell_type": "code",
   "execution_count": null,
   "metadata": {},
   "outputs": [],
   "source": [
    "def compound_interest(\n",
    "    principal,\n",
    "    annual_rate,\n",
    "    years,\n",
    "    compounds_per_year=1,\n",
    "):\n",
    "    return np.array([principal * ((1 + annual_rate/compounds_per_year)**(yr*compounds_per_year)) for yr in range(years)])"
   ]
  },
  {
   "cell_type": "code",
   "execution_count": null,
   "metadata": {},
   "outputs": [],
   "source": [
    "indexed_fuel_cost = compound_interest(fuel_cost_per_litre, cpi, years_to_model)\n",
    "                                      #np.array([fuel_cost_per_litre * (1 + cpi)**yr for yr in range(years_to_model)])\n",
    "indexed_fuel_cost"
   ]
  },
  {
   "cell_type": "code",
   "execution_count": null,
   "metadata": {},
   "outputs": [],
   "source": [
    "assert len(indexed_fuel_cost) == years_to_model\n",
    "assert len(indexed_fuel_cost) == len(dep_value)\n",
    "assert len(indexed_fuel_cost) == len(yearly_depreciation_cost)"
   ]
  },
  {
   "cell_type": "code",
   "execution_count": null,
   "metadata": {},
   "outputs": [],
   "source": []
  },
  {
   "cell_type": "markdown",
   "metadata": {},
   "source": [
    "# Tests"
   ]
  },
  {
   "cell_type": "code",
   "execution_count": 45,
   "metadata": {},
   "outputs": [
    {
     "name": "stdout",
     "output_type": "stream",
     "text": [
      "============================================================ test session starts =============================================================\n",
      "platform linux -- Python 3.6.5, pytest-3.7.3, py-1.5.4, pluggy-0.7.1 -- /home/daniel/.virtualenvs/ccc/bin/python3\n",
      "cachedir: .pytest_cache\n",
      "rootdir: /home/daniel/code/car-cost-calculator, inifile:\n",
      "collecting ... collected 4 items\n",
      "\n",
      "comparer.py::test_depreciated_value_result_sizes <- <ipython-input-45-812e2931103c> PASSED                                             [ 25%]\n",
      "comparer.py::test_depreciated_value_first_year_is_initial_value <- <ipython-input-45-812e2931103c> PASSED                              [ 50%]\n",
      "comparer.py::test_depreciated_value <- <ipython-input-45-812e2931103c> PASSED                                                          [ 75%]\n",
      "comparer.py::test_loss <- <ipython-input-45-812e2931103c> FAILED                                                                       [100%]\n",
      "\n",
      "================================================================== FAILURES ==================================================================\n",
      "<ipython-input-45-812e2931103c>:40: assert 7.289999999999992 == (72.9 * 0.1)\n",
      "===================================================== 1 failed, 3 passed in 0.06 seconds =====================================================\n"
     ]
    }
   ],
   "source": [
    "%%run_pytest -v --tb=line\n",
    "\n",
    "def flat_rate(a):\n",
    "    return 0.1\n",
    "\n",
    "def test_depreciated_value_result_sizes():\n",
    "    iv = 100\n",
    "    y = 5\n",
    "    dv, loss = calc_depreciation(iv, y, flat_rate)\n",
    "    \n",
    "    assert len(dv) == y\n",
    "    assert len(loss) == y\n",
    "    \n",
    "def test_depreciated_value_first_year_is_initial_value():\n",
    "    iv = 100\n",
    "    y = 5\n",
    "    dv, loss = calc_depreciation(iv, y, flat_rate)\n",
    "    \n",
    "    assert dv[0] == iv\n",
    "    \n",
    "def test_depreciated_value():\n",
    "    iv = 100\n",
    "    y = 5\n",
    "    dv, loss = calc_depreciation(iv, y, flat_rate)\n",
    "    \n",
    "    assert dv[0] == iv\n",
    "    assert dv[1] == dv[0] * 0.9\n",
    "    assert dv[2] == dv[1] * 0.9\n",
    "    assert dv[3] == dv[2] * 0.9\n",
    "    assert dv[4] == dv[3] * 0.9\n",
    "    \n",
    "def test_loss():\n",
    "    iv = 100\n",
    "    y = 5\n",
    "    dv, loss = calc_depreciation(iv, y, flat_rate)\n",
    "    \n",
    "    assert loss[0] == flat_rate(0) * iv\n",
    "    assert loss[0] == dv[0] * flat_rate(0)\n",
    "    assert loss[1] == dv[1] - dv[2]\n",
    "    assert loss[2] == dv[2] - dv[3]\n",
    "    assert loss[3] == dv[3] * flat_rate(3)\n",
    "    assert loss[4] == dv[4] * flat_rate(4)\n",
    "    \n",
    "    "
   ]
  },
  {
   "cell_type": "code",
   "execution_count": null,
   "metadata": {},
   "outputs": [],
   "source": []
  },
  {
   "cell_type": "code",
   "execution_count": null,
   "metadata": {},
   "outputs": [],
   "source": []
  }
 ],
 "metadata": {
  "extensions": {
   "jupyter_dashboards": {
    "activeView": "grid_default",
    "version": 1,
    "views": {
     "grid_default": {
      "cellMargin": 10,
      "defaultCellHeight": 20,
      "maxColumns": 12,
      "name": "grid",
      "type": "grid"
     },
     "report_default": {
      "name": "report",
      "type": "report"
     }
    }
   }
  },
  "kernelspec": {
   "display_name": "Python 3",
   "language": "python",
   "name": "python3"
  },
  "language_info": {
   "codemirror_mode": {
    "name": "ipython",
    "version": 3
   },
   "file_extension": ".py",
   "mimetype": "text/x-python",
   "name": "python",
   "nbconvert_exporter": "python",
   "pygments_lexer": "ipython3",
   "version": "3.6.5"
  }
 },
 "nbformat": 4,
 "nbformat_minor": 2
}
