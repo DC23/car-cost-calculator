{
 "cells": [
  {
   "cell_type": "markdown",
   "metadata": {},
   "source": [
    "# Setup"
   ]
  },
  {
   "cell_type": "code",
   "execution_count": 1,
   "metadata": {
    "extensions": {
     "jupyter_dashboards": {
      "version": 1,
      "views": {
       "grid_default": {},
       "report_default": {}
      }
     }
    }
   },
   "outputs": [],
   "source": [
    "#import cufflinks as cf\n",
    "import matplotlib\n",
    "import matplotlib.pyplot as plt\n",
    "import numpy as np\n",
    "import pandas as pd\n",
    "import plotly.offline as py\n",
    "import plotly.graph_objs as go\n",
    "import pytest as pt\n",
    "\n",
    "from datetime import datetime\n",
    "\n",
    "from car_cost_calculator.car_costs import CarCosts\n",
    "from car_cost_calculator.running_costs import RunningCosts\n",
    "from car_cost_calculator.depreciation import TwoStageRate"
   ]
  },
  {
   "cell_type": "code",
   "execution_count": 2,
   "metadata": {},
   "outputs": [],
   "source": [
    "np.set_printoptions(suppress=True)"
   ]
  },
  {
   "cell_type": "code",
   "execution_count": 3,
   "metadata": {
    "extensions": {
     "jupyter_dashboards": {
      "version": 1,
      "views": {
       "grid_default": {},
       "report_default": {}
      }
     }
    }
   },
   "outputs": [
    {
     "data": {
      "text/html": [
       "<script>requirejs.config({paths: { 'plotly': ['https://cdn.plot.ly/plotly-latest.min']},});if(!window.Plotly) {{require(['plotly'],function(plotly) {window.Plotly=plotly;});}}</script>"
      ],
      "text/vnd.plotly.v1+html": [
       "<script>requirejs.config({paths: { 'plotly': ['https://cdn.plot.ly/plotly-latest.min']},});if(!window.Plotly) {{require(['plotly'],function(plotly) {window.Plotly=plotly;});}}</script>"
      ]
     },
     "metadata": {},
     "output_type": "display_data"
    }
   ],
   "source": [
    "# matplotlib configuration\n",
    "%matplotlib inline\n",
    "matplotlib.style.use('bmh')\n",
    "\n",
    "# Common Plotly configuration\n",
    "py.init_notebook_mode(connected=True)\n",
    "config={\n",
    "    'showLink': False,\n",
    "    'modeBarButtonsToRemove': ['sendDataToCloud', 'hoverClosestCartesian', 'hoverCompareCartesian'],\n",
    "}\n",
    "\n",
    "# cufflinks config\n",
    "#cf.go_offline()\n",
    "#cf.set_config_file(offline=True, world_readable=False, theme='ggplot')"
   ]
  },
  {
   "cell_type": "code",
   "execution_count": 4,
   "metadata": {},
   "outputs": [],
   "source": [
    "def line_chart(y, x=None):\n",
    "    py.iplot([{'y':y, 'x':x}], config=config)"
   ]
  },
  {
   "cell_type": "code",
   "execution_count": 88,
   "metadata": {},
   "outputs": [],
   "source": [
    "cc = CarCosts(\n",
    "        initial_vehicle_value=25000,\n",
    "        initial_vehicle_age=0,\n",
    "        depreciation_rate=TwoStageRate(\n",
    "            stage_1_rate=0.15, stage_2_rate=0.1, breakpoint=3),\n",
    "        years=10,\n",
    "        km_per_year=15000,\n",
    "        litres_per_100km=9.0,\n",
    "        inflation=0.02,\n",
    "        initial_fuel_price=1.50,\n",
    "        initial_service_cost=350,\n",
    "        service_interval_km=10000,\n",
    "        service_interval_years=1,\n",
    "        tyre_replacement_interval=40000,\n",
    "        initial_cost_per_tyre=300)"
   ]
  },
  {
   "cell_type": "code",
   "execution_count": 101,
   "metadata": {},
   "outputs": [
    {
     "data": {
      "application/vnd.plotly.v1+json": {
       "data": [
        {
         "name": "depreciation",
         "type": "bar",
         "uid": "9c03b580-b0ee-11e8-b979-0800279fead2",
         "y": [
          3750,
          3187.5,
          2709.375,
          1535.3125,
          1381.78125,
          1243.603125,
          1119.2428125000001,
          1007.31853125,
          906.5866781249999,
          815.9280103125
         ]
        },
        {
         "name": "fuel",
         "type": "bar",
         "uid": "9c03b581-b0ee-11e8-b979-0800279fead2",
         "y": [
          2025,
          2065.5,
          2106.81,
          2148.9462000000003,
          2191.9251240000003,
          2235.76362648,
          2280.4788990096,
          2326.088476989792,
          2372.610246529588,
          2420.06245146018
         ]
        },
        {
         "name": "tyres",
         "type": "bar",
         "uid": "9c03b582-b0ee-11e8-b979-0800279fead2",
         "y": [
          0,
          0,
          1248.48,
          0,
          0,
          1324.8969638400001,
          0,
          1378.422801179136,
          0,
          0
         ]
        },
        {
         "name": "service",
         "type": "bar",
         "uid": "9c03b583-b0ee-11e8-b979-0800279fead2",
         "y": [
          350,
          714,
          364.14,
          742.8456000000001,
          378.851256,
          772.85656224,
          394.15684674240003,
          804.079967354496,
          410.080783350793,
          836.5647980356177
         ]
        },
        {
         "name": "insurance",
         "type": "bar",
         "uid": "9c03b584-b0ee-11e8-b979-0800279fead2",
         "y": [
          500,
          510,
          520.2,
          530.604,
          541.21608,
          552.0404016,
          563.0812096320001,
          574.34283382464,
          585.8296905011329,
          597.5462843111555
         ]
        },
        {
         "name": "registration",
         "type": "bar",
         "uid": "9c03b585-b0ee-11e8-b979-0800279fead2",
         "y": [
          500,
          510,
          520.2,
          530.604,
          541.21608,
          552.0404016,
          563.0812096320001,
          574.34283382464,
          585.8296905011329,
          597.5462843111555
         ]
        },
        {
         "name": "roadside_assist",
         "type": "bar",
         "uid": "9c03b586-b0ee-11e8-b979-0800279fead2",
         "y": [
          200,
          204,
          208.07999999999998,
          212.24160000000003,
          216.486432,
          220.81616064,
          225.23248385280002,
          229.737133529856,
          234.33187620045314,
          239.01851372446222
         ]
        },
        {
         "name": "detailing",
         "type": "bar",
         "uid": "9c03b587-b0ee-11e8-b979-0800279fead2",
         "y": [
          120,
          122.4,
          124.848,
          127.34496000000001,
          129.8918592,
          132.489696384,
          135.13949031168002,
          137.84228011791362,
          140.5991257202719,
          143.41110823467733
         ]
        }
       ],
       "layout": {
        "barmode": "stack",
        "title": "Yearly Costs"
       }
      },
      "text/html": [
       "<div id=\"6ba7eb94-5a23-47be-b8b1-e70b9cf89554\" style=\"height: 525px; width: 100%;\" class=\"plotly-graph-div\"></div><script type=\"text/javascript\">require([\"plotly\"], function(Plotly) { window.PLOTLYENV=window.PLOTLYENV || {};window.PLOTLYENV.BASE_URL=\"https://plot.ly\";\n",
       "        Plotly.plot(\n",
       "            '6ba7eb94-5a23-47be-b8b1-e70b9cf89554',\n",
       "            [{\"name\": \"depreciation\", \"y\": [3750.0, 3187.5, 2709.375, 1535.3125, 1381.78125, 1243.603125, 1119.2428125000001, 1007.31853125, 906.5866781249999, 815.9280103125], \"type\": \"bar\", \"uid\": \"9c03b580-b0ee-11e8-b979-0800279fead2\"}, {\"name\": \"fuel\", \"y\": [2025.0, 2065.5, 2106.81, 2148.9462000000003, 2191.9251240000003, 2235.76362648, 2280.4788990096, 2326.088476989792, 2372.610246529588, 2420.06245146018], \"type\": \"bar\", \"uid\": \"9c03b581-b0ee-11e8-b979-0800279fead2\"}, {\"name\": \"tyres\", \"y\": [0.0, 0.0, 1248.48, 0.0, 0.0, 1324.8969638400001, 0.0, 1378.422801179136, 0.0, 0.0], \"type\": \"bar\", \"uid\": \"9c03b582-b0ee-11e8-b979-0800279fead2\"}, {\"name\": \"service\", \"y\": [350.0, 714.0, 364.14, 742.8456000000001, 378.851256, 772.85656224, 394.15684674240003, 804.079967354496, 410.080783350793, 836.5647980356177], \"type\": \"bar\", \"uid\": \"9c03b583-b0ee-11e8-b979-0800279fead2\"}, {\"name\": \"insurance\", \"y\": [500.0, 510.0, 520.2, 530.604, 541.21608, 552.0404016, 563.0812096320001, 574.34283382464, 585.8296905011329, 597.5462843111555], \"type\": \"bar\", \"uid\": \"9c03b584-b0ee-11e8-b979-0800279fead2\"}, {\"name\": \"registration\", \"y\": [500.0, 510.0, 520.2, 530.604, 541.21608, 552.0404016, 563.0812096320001, 574.34283382464, 585.8296905011329, 597.5462843111555], \"type\": \"bar\", \"uid\": \"9c03b585-b0ee-11e8-b979-0800279fead2\"}, {\"name\": \"roadside_assist\", \"y\": [200.0, 204.0, 208.07999999999998, 212.24160000000003, 216.486432, 220.81616064, 225.23248385280002, 229.737133529856, 234.33187620045314, 239.01851372446222], \"type\": \"bar\", \"uid\": \"9c03b586-b0ee-11e8-b979-0800279fead2\"}, {\"name\": \"detailing\", \"y\": [120.0, 122.4, 124.848, 127.34496000000001, 129.8918592, 132.489696384, 135.13949031168002, 137.84228011791362, 140.5991257202719, 143.41110823467733], \"type\": \"bar\", \"uid\": \"9c03b587-b0ee-11e8-b979-0800279fead2\"}],\n",
       "            {\"barmode\": \"stack\", \"title\": \"Yearly Costs\"},\n",
       "            {\"showLink\": false, \"linkText\": \"Export to plot.ly\", \"modeBarButtonsToRemove\": [\"sendDataToCloud\", \"hoverClosestCartesian\", \"hoverCompareCartesian\"]}\n",
       "        ).then(function () {return Plotly.addFrames('6ba7eb94-5a23-47be-b8b1-e70b9cf89554',{});}).then(function(){Plotly.animate('6ba7eb94-5a23-47be-b8b1-e70b9cf89554');})\n",
       "        });</script>"
      ],
      "text/vnd.plotly.v1+html": [
       "<div id=\"6ba7eb94-5a23-47be-b8b1-e70b9cf89554\" style=\"height: 525px; width: 100%;\" class=\"plotly-graph-div\"></div><script type=\"text/javascript\">require([\"plotly\"], function(Plotly) { window.PLOTLYENV=window.PLOTLYENV || {};window.PLOTLYENV.BASE_URL=\"https://plot.ly\";\n",
       "        Plotly.plot(\n",
       "            '6ba7eb94-5a23-47be-b8b1-e70b9cf89554',\n",
       "            [{\"name\": \"depreciation\", \"y\": [3750.0, 3187.5, 2709.375, 1535.3125, 1381.78125, 1243.603125, 1119.2428125000001, 1007.31853125, 906.5866781249999, 815.9280103125], \"type\": \"bar\", \"uid\": \"9c03b580-b0ee-11e8-b979-0800279fead2\"}, {\"name\": \"fuel\", \"y\": [2025.0, 2065.5, 2106.81, 2148.9462000000003, 2191.9251240000003, 2235.76362648, 2280.4788990096, 2326.088476989792, 2372.610246529588, 2420.06245146018], \"type\": \"bar\", \"uid\": \"9c03b581-b0ee-11e8-b979-0800279fead2\"}, {\"name\": \"tyres\", \"y\": [0.0, 0.0, 1248.48, 0.0, 0.0, 1324.8969638400001, 0.0, 1378.422801179136, 0.0, 0.0], \"type\": \"bar\", \"uid\": \"9c03b582-b0ee-11e8-b979-0800279fead2\"}, {\"name\": \"service\", \"y\": [350.0, 714.0, 364.14, 742.8456000000001, 378.851256, 772.85656224, 394.15684674240003, 804.079967354496, 410.080783350793, 836.5647980356177], \"type\": \"bar\", \"uid\": \"9c03b583-b0ee-11e8-b979-0800279fead2\"}, {\"name\": \"insurance\", \"y\": [500.0, 510.0, 520.2, 530.604, 541.21608, 552.0404016, 563.0812096320001, 574.34283382464, 585.8296905011329, 597.5462843111555], \"type\": \"bar\", \"uid\": \"9c03b584-b0ee-11e8-b979-0800279fead2\"}, {\"name\": \"registration\", \"y\": [500.0, 510.0, 520.2, 530.604, 541.21608, 552.0404016, 563.0812096320001, 574.34283382464, 585.8296905011329, 597.5462843111555], \"type\": \"bar\", \"uid\": \"9c03b585-b0ee-11e8-b979-0800279fead2\"}, {\"name\": \"roadside_assist\", \"y\": [200.0, 204.0, 208.07999999999998, 212.24160000000003, 216.486432, 220.81616064, 225.23248385280002, 229.737133529856, 234.33187620045314, 239.01851372446222], \"type\": \"bar\", \"uid\": \"9c03b586-b0ee-11e8-b979-0800279fead2\"}, {\"name\": \"detailing\", \"y\": [120.0, 122.4, 124.848, 127.34496000000001, 129.8918592, 132.489696384, 135.13949031168002, 137.84228011791362, 140.5991257202719, 143.41110823467733], \"type\": \"bar\", \"uid\": \"9c03b587-b0ee-11e8-b979-0800279fead2\"}],\n",
       "            {\"barmode\": \"stack\", \"title\": \"Yearly Costs\"},\n",
       "            {\"showLink\": false, \"linkText\": \"Export to plot.ly\", \"modeBarButtonsToRemove\": [\"sendDataToCloud\", \"hoverClosestCartesian\", \"hoverCompareCartesian\"]}\n",
       "        ).then(function () {return Plotly.addFrames('6ba7eb94-5a23-47be-b8b1-e70b9cf89554',{});}).then(function(){Plotly.animate('6ba7eb94-5a23-47be-b8b1-e70b9cf89554');})\n",
       "        });</script>"
      ]
     },
     "metadata": {},
     "output_type": "display_data"
    }
   ],
   "source": [
    "yc = cc.yearly_costs\n",
    "\n",
    "sorted_costs = [(c, yc[c].max()) for c in yc.columns]\n",
    "sorted_costs.sort(key=lambda x: x[1], reverse=True)\n",
    "\n",
    "data = [go.Bar(y=cc.yearly_costs[cost[0]], name=cost[0]) for cost in sorted_costs]\n",
    "\n",
    "layout = go.Layout(\n",
    "    barmode='stack',\n",
    "    title='Yearly Costs'\n",
    ")\n",
    "\n",
    "fig = go.Figure(data=data, layout=layout)\n",
    "\n",
    "py.iplot(fig, config=config)"
   ]
  }
 ],
 "metadata": {
  "extensions": {
   "jupyter_dashboards": {
    "activeView": "grid_default",
    "version": 1,
    "views": {
     "grid_default": {
      "cellMargin": 10,
      "defaultCellHeight": 20,
      "maxColumns": 12,
      "name": "grid",
      "type": "grid"
     },
     "report_default": {
      "name": "report",
      "type": "report"
     }
    }
   }
  },
  "kernelspec": {
   "display_name": "Python 3",
   "language": "python",
   "name": "python3"
  },
  "language_info": {
   "codemirror_mode": {
    "name": "ipython",
    "version": 3
   },
   "file_extension": ".py",
   "mimetype": "text/x-python",
   "name": "python",
   "nbconvert_exporter": "python",
   "pygments_lexer": "ipython3",
   "version": "3.6.5"
  }
 },
 "nbformat": 4,
 "nbformat_minor": 2
}
