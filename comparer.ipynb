{
 "cells": [
  {
   "cell_type": "markdown",
   "metadata": {},
   "source": [
    "# Setup"
   ]
  },
  {
   "cell_type": "code",
   "execution_count": 3,
   "metadata": {
    "extensions": {
     "jupyter_dashboards": {
      "version": 1,
      "views": {
       "grid_default": {},
       "report_default": {}
      }
     }
    }
   },
   "outputs": [],
   "source": [
    "import matplotlib\n",
    "import matplotlib.pyplot as plt\n",
    "import numpy as np\n",
    "import pandas as pd\n",
    "import plotly.offline as py\n",
    "import plotly.graph_objs as go\n",
    "import pytest as pt\n",
    "\n",
    "from datetime import datetime"
   ]
  },
  {
   "cell_type": "code",
   "execution_count": 4,
   "metadata": {},
   "outputs": [],
   "source": [
    "# set the file name. This needs to be done manually, as Jupyter makes it oddly difficult to query the current notebook filename.\n",
    "__file__ = 'comparer.ipynb'\n",
    "\n",
    "import ipytest.magics\n",
    "import pytest"
   ]
  },
  {
   "cell_type": "code",
   "execution_count": 5,
   "metadata": {},
   "outputs": [],
   "source": [
    "np.set_printoptions(suppress=True)"
   ]
  },
  {
   "cell_type": "code",
   "execution_count": 6,
   "metadata": {},
   "outputs": [
    {
     "data": {
      "text/html": [
       "<style>\n",
       "    .container { width:100% !important; } \n",
       "</style>"
      ],
      "text/plain": [
       "<IPython.core.display.HTML object>"
      ]
     },
     "metadata": {},
     "output_type": "display_data"
    }
   ],
   "source": [
    "%%HTML\n",
    "<style>\n",
    "    .container { width:100% !important; } \n",
    "</style>"
   ]
  },
  {
   "cell_type": "code",
   "execution_count": 7,
   "metadata": {
    "extensions": {
     "jupyter_dashboards": {
      "version": 1,
      "views": {
       "grid_default": {},
       "report_default": {}
      }
     }
    }
   },
   "outputs": [
    {
     "data": {
      "text/html": [
       "<script>requirejs.config({paths: { 'plotly': ['https://cdn.plot.ly/plotly-latest.min']},});if(!window.Plotly) {{require(['plotly'],function(plotly) {window.Plotly=plotly;});}}</script>"
      ],
      "text/vnd.plotly.v1+html": [
       "<script>requirejs.config({paths: { 'plotly': ['https://cdn.plot.ly/plotly-latest.min']},});if(!window.Plotly) {{require(['plotly'],function(plotly) {window.Plotly=plotly;});}}</script>"
      ]
     },
     "metadata": {},
     "output_type": "display_data"
    }
   ],
   "source": [
    "# matplotlib configuration\n",
    "%matplotlib inline\n",
    "matplotlib.style.use('bmh')\n",
    "\n",
    "# Common Plotly configuration\n",
    "py.init_notebook_mode(connected=True)\n",
    "config={\n",
    "    'showLink': False,\n",
    "    'modeBarButtonsToRemove': ['sendDataToCloud', 'hoverClosestCartesian', 'hoverCompareCartesian'],\n",
    "}"
   ]
  },
  {
   "cell_type": "code",
   "execution_count": 8,
   "metadata": {},
   "outputs": [],
   "source": [
    "def line_chart(y, x=None):\n",
    "    py.iplot([{'y':y, 'x':x}], config=config)"
   ]
  },
  {
   "cell_type": "markdown",
   "metadata": {
    "extensions": {
     "jupyter_dashboards": {
      "version": 1,
      "views": {
       "grid_default": {},
       "report_default": {}
      }
     }
    }
   },
   "source": [
    "# Assumptions"
   ]
  },
  {
   "cell_type": "code",
   "execution_count": 9,
   "metadata": {
    "extensions": {
     "jupyter_dashboards": {
      "version": 1,
      "views": {
       "grid_default": {},
       "report_default": {}
      }
     }
    }
   },
   "outputs": [],
   "source": [
    "cpi = 0.02\n",
    "km_per_year = 15000\n",
    "cost_per_tyre = 350\n",
    "tyre_life_km = 45000\n",
    "fuel_cost_per_litre = 1.50\n",
    "fuel_efficiency_litres_per_100km = 7.0\n",
    "\n",
    "purchase_price = 35000\n",
    "age_at_purchase = 0\n",
    "years_to_model = 15"
   ]
  },
  {
   "cell_type": "markdown",
   "metadata": {
    "extensions": {
     "jupyter_dashboards": {
      "version": 1,
      "views": {
       "grid_default": {},
       "report_default": {}
      }
     }
    }
   },
   "source": [
    "# Depreciation"
   ]
  },
  {
   "cell_type": "markdown",
   "metadata": {},
   "source": [
    "## Tests"
   ]
  },
  {
   "cell_type": "code",
   "execution_count": 12,
   "metadata": {
    "scrolled": false
   },
   "outputs": [
    {
     "name": "stdout",
     "output_type": "stream",
     "text": [
      "============================================================ test session starts =============================================================\n",
      "platform linux -- Python 3.6.5, pytest-3.7.4, py-1.6.0, pluggy-0.7.1 -- /home/daniel/.virtualenvs/ccc/bin/python\n",
      "cachedir: .pytest_cache\n",
      "rootdir: /home/daniel/code/car-cost-calculator, inifile:\n",
      "plugins: sugar-0.9.1\n",
      "collecting ... collected 6 items\n",
      "\n",
      "comparer.py::test_depreciated_value_result_sizes <- <ipython-input-12-697ad6a36427> PASSED                                             [ 16%]\n",
      "comparer.py::test_depreciated_value_first_year <- <ipython-input-12-697ad6a36427> PASSED                                               [ 33%]\n",
      "comparer.py::test_depreciated_value_second_year <- <ipython-input-12-697ad6a36427> PASSED                                              [ 50%]\n",
      "comparer.py::test_depreciated_value <- <ipython-input-12-697ad6a36427> PASSED                                                          [ 66%]\n",
      "comparer.py::test_loss_vs_dep_value <- <ipython-input-12-697ad6a36427> PASSED                                                          [ 83%]\n",
      "comparer.py::test_cumulative_loss <- <ipython-input-12-697ad6a36427> PASSED                                                            [100%]\n",
      "\n",
      "========================================================== 6 passed in 0.10 seconds ==========================================================\n"
     ]
    }
   ],
   "source": [
    "%%run_pytest[clean] -v --tb=line\n",
    "\n",
    "def decelerating(y):\n",
    "    if y < 3:\n",
    "        return 0.15\n",
    "    elif y < 5:\n",
    "        return 0.1\n",
    "    else:\n",
    "        return 0.08\n",
    "    \n",
    "flat_rate_15 = FlatRate(0.15)\n",
    "    \n",
    "def test_depreciated_value_result_sizes():\n",
    "    iv = 100  # initial value\n",
    "    y = 5  # num years\n",
    "    ia = 0  # initial age\n",
    "    dv, loss = calc_depreciation(iv, years=y, initial_age=ia, dep_rate_func=flat_rate_15)\n",
    "    assert len(dv) == y\n",
    "    assert len(loss) == y\n",
    "    \n",
    "def test_depreciated_value_first_year():\n",
    "    iv = 100\n",
    "    y = 5\n",
    "    ia = 0  # initial age\n",
    "    dv, loss = calc_depreciation(iv, years=y, initial_age=ia, dep_rate_func=flat_rate_15)\n",
    "    assert dv[0] == pt.approx(iv)\n",
    "    \n",
    "def test_depreciated_value_second_year():\n",
    "    iv = 1000\n",
    "    y = 5\n",
    "    ia = 0  # initial age\n",
    "    dv, _ = calc_depreciation(iv, years=y, initial_age=ia, dep_rate_func=flat_rate_15)\n",
    "    assert dv[1] == pt.approx(iv * (1 - flat_rate_15(0)))\n",
    "    \n",
    "def test_depreciated_value():\n",
    "    iv = 100\n",
    "    y = 5\n",
    "    ia = 0\n",
    "    dv, _ = calc_depreciation(iv, years=y, initial_age=ia, dep_rate_func=flat_rate_15)\n",
    "    r = 1 - flat_rate_15(0)\n",
    "    assert dv[0] == pt.approx(iv)\n",
    "    assert dv[1] == pt.approx(dv[0] * r)\n",
    "    assert dv[2] == pt.approx(dv[1] * r)\n",
    "    assert dv[3] == pt.approx(dv[2] * r)\n",
    "    assert dv[4] == pt.approx(dv[3] * r)\n",
    "    \n",
    "def test_loss_vs_dep_value():\n",
    "    iv = 100\n",
    "    y = 5\n",
    "    ia = 0\n",
    "    dv, loss = calc_depreciation(iv, years=y, initial_age=ia, dep_rate_func=decelerating)\n",
    "    for i in range(y):\n",
    "        assert loss[i] == pt.approx(decelerating(i) * dv[i])\n",
    "    \n",
    "def test_cumulative_loss():\n",
    "    iv = 15000\n",
    "    y = 10\n",
    "    ia = 0\n",
    "    dv, loss = calc_depreciation(iv, years=y, initial_age=ia, dep_rate_func=decelerating)\n",
    "    assert dv[0] - dv[-1] == pt.approx(loss[0:-1].sum())\n",
    "    "
   ]
  },
  {
   "cell_type": "markdown",
   "metadata": {},
   "source": [
    "# Compound Interest\n",
    "Solves $A = P(1+\\frac{r}{n})^{nt}$ for\n",
    "* P = principal\n",
    "* r = annual rate\n",
    "* n = number of times interest is compounded per year\n",
    "* t = number of years to compound\n",
    "\n",
    "Returns an array giving the new principal for each year in the sequence."
   ]
  },
  {
   "cell_type": "code",
   "execution_count": 13,
   "metadata": {},
   "outputs": [],
   "source": [
    "def compound_interest(\n",
    "    principal,\n",
    "    annual_rate,\n",
    "    years,\n",
    "    compounds_per_year=1,\n",
    "):\n",
    "    return np.array([principal * ((1 + annual_rate/compounds_per_year)**(yr*compounds_per_year)) for yr in range(years)])"
   ]
  },
  {
   "cell_type": "code",
   "execution_count": 14,
   "metadata": {},
   "outputs": [
    {
     "name": "stdout",
     "output_type": "stream",
     "text": [
      "============================================================ test session starts =============================================================\n",
      "platform linux -- Python 3.6.5, pytest-3.7.4, py-1.6.0, pluggy-0.7.1 -- /home/daniel/.virtualenvs/ccc/bin/python\n",
      "cachedir: .pytest_cache\n",
      "rootdir: /home/daniel/code/car-cost-calculator, inifile:\n",
      "plugins: sugar-0.9.1\n",
      "collecting ... collected 2 items\n",
      "\n",
      "comparer.py::test_compound_interest_num_results <- <ipython-input-14-0d04cf4e4a7c> PASSED                                              [ 50%]\n",
      "comparer.py::test_compound_interest <- <ipython-input-14-0d04cf4e4a7c> PASSED                                                          [100%]\n",
      "\n",
      "============================================================== warnings summary ==============================================================\n",
      "<undetermined location>\n",
      "  Module already imported so cannot be rewritten: pytest_sugar\n",
      "\n",
      "-- Docs: https://docs.pytest.org/en/latest/warnings.html\n",
      "==================================================== 2 passed, 1 warnings in 0.05 seconds ====================================================\n"
     ]
    }
   ],
   "source": [
    "%%run_pytest[clean] -v --tb=line\n",
    "\n",
    "def test_compound_interest_num_results():\n",
    "    p = compound_interest(8000, 0.073, 10, 1)\n",
    "    assert 10 == len(p)\n",
    "    \n",
    "def test_compound_interest():\n",
    "    actual = compound_interest(8000, 0.073, 5, 1)\n",
    "    expected = [8000.0, 8584.0, 9210.632, 9883.008, 10604.468]\n",
    "    np.testing.assert_allclose(actual, expected, verbose=True)\n",
    "    "
   ]
  },
  {
   "cell_type": "markdown",
   "metadata": {},
   "source": [
    "# Fuel Costs"
   ]
  },
  {
   "cell_type": "code",
   "execution_count": 15,
   "metadata": {},
   "outputs": [],
   "source": [
    "def fuel_used(distance_km, litres_per_100km):\n",
    "    return distance_km * litres_per_100km / 100.0"
   ]
  },
  {
   "cell_type": "code",
   "execution_count": 16,
   "metadata": {},
   "outputs": [],
   "source": [
    "def yearly_fuel_cost(km_per_year, fuel_efficiency, years, cpi, initial_fuel_cost):\n",
    "    assert cpi >= 0\n",
    "    assert cpi <= 1.0\n",
    "    \n",
    "    fuel_used_per_year = fuel_used(km_per_year, fuel_efficiency)\n",
    "    indexed_fuel_cost_per_litre = compound_interest(principal=initial_fuel_cost, annual_rate=cpi, years=years, compounds_per_year=1)\n",
    "    return indexed_fuel_cost_per_litre * fuel_used_per_year"
   ]
  },
  {
   "cell_type": "code",
   "execution_count": 17,
   "metadata": {},
   "outputs": [
    {
     "name": "stdout",
     "output_type": "stream",
     "text": [
      "============================================================ test session starts =============================================================\n",
      "platform linux -- Python 3.6.5, pytest-3.7.4, py-1.6.0, pluggy-0.7.1 -- /home/daniel/.virtualenvs/ccc/bin/python\n",
      "cachedir: .pytest_cache\n",
      "rootdir: /home/daniel/code/car-cost-calculator, inifile:\n",
      "plugins: sugar-0.9.1\n",
      "collecting ... collected 3 items\n",
      "\n",
      "comparer.py::test_fuel_used_100km <- <ipython-input-17-bd08d6d8f5fc> PASSED                                                            [ 33%]\n",
      "comparer.py::test_fuel_used_15000km <- <ipython-input-17-bd08d6d8f5fc> PASSED                                                          [ 66%]\n",
      "comparer.py::test_fuel_cost_over_10years <- <ipython-input-17-bd08d6d8f5fc> PASSED                                                     [100%]\n",
      "\n",
      "============================================================== warnings summary ==============================================================\n",
      "<undetermined location>\n",
      "  Module already imported so cannot be rewritten: pytest_sugar\n",
      "\n",
      "-- Docs: https://docs.pytest.org/en/latest/warnings.html\n",
      "==================================================== 3 passed, 1 warnings in 0.04 seconds ====================================================\n"
     ]
    }
   ],
   "source": [
    "%%run_pytest[clean] -v --tb=line\n",
    "\n",
    "def test_fuel_used_100km():\n",
    "    assert fuel_used(100, 8) == 8.0\n",
    "    \n",
    "def test_fuel_used_15000km():\n",
    "    assert fuel_used(15000, 15.8) == 2370.0\n",
    "    \n",
    "def test_fuel_cost_over_10years():\n",
    "    expected = [1890.0, 1929.69, 1970.214, 2011.588, 2053.831, 2096.962, 2140.998, 2185.959, 2231.864, 2278.733]\n",
    "    actual = yearly_fuel_cost(km_per_year=15000, fuel_efficiency=8.4, years=10, cpi=2.1/100.0, initial_fuel_cost=1.5)\n",
    "    np.testing.assert_allclose(actual, expected, atol=0.001)"
   ]
  },
  {
   "cell_type": "markdown",
   "metadata": {},
   "source": [
    "# Running Costs\n",
    "Costs that depend on distance travelled.\n",
    "\n",
    "* service_cost = 400,\n",
    "* service_interval_km = 10000,\n",
    "* service_interval_years = 1.0,"
   ]
  },
  {
   "cell_type": "markdown",
   "metadata": {},
   "source": [
    "## To Do: move fuel cost into `RunningCosts` class"
   ]
  },
  {
   "cell_type": "code",
   "execution_count": 18,
   "metadata": {},
   "outputs": [],
   "source": [
    "class RunningCosts():\n",
    "    pass"
   ]
  },
  {
   "cell_type": "markdown",
   "metadata": {
    "extensions": {
     "jupyter_dashboards": {
      "version": 1,
      "views": {
       "grid_default": {},
       "report_default": {}
      }
     }
    }
   },
   "source": [
    "# Standing Costs\n",
    "Costs that do not depend on distance travelled."
   ]
  },
  {
   "cell_type": "code",
   "execution_count": 19,
   "metadata": {},
   "outputs": [],
   "source": [
    "class StandingCosts():\n",
    "    '''Represents the static costs, which are not dependent on distance travelled'''\n",
    "    \n",
    "    def __init__(\n",
    "        self,\n",
    "        years = 1,\n",
    "        cpi = 0.02,\n",
    "        insurance_per_year = 500,\n",
    "        registration_per_year = 500,\n",
    "        roadside_assist_per_year = 200):\n",
    "        '''Initialise the standing costs object'''\n",
    "        self.insurance_per_year = compound_interest(principal=insurance_per_year, annual_rate=cpi, years=years, compounds_per_year=1)\n",
    "        self.registration_per_year = compound_interest(principal=registration_per_year, annual_rate=cpi, years=years, compounds_per_year=1)\n",
    "        self.roadside_assist_per_year = compound_interest(principal=roadside_assist_per_year, annual_rate=cpi, years=years, compounds_per_year=1)"
   ]
  },
  {
   "cell_type": "code",
   "execution_count": 20,
   "metadata": {},
   "outputs": [
    {
     "name": "stdout",
     "output_type": "stream",
     "text": [
      "============================================================ test session starts =============================================================\n",
      "platform linux -- Python 3.6.5, pytest-3.7.4, py-1.6.0, pluggy-0.7.1 -- /home/daniel/.virtualenvs/ccc/bin/python\n",
      "cachedir: .pytest_cache\n",
      "rootdir: /home/daniel/code/car-cost-calculator, inifile:\n",
      "plugins: sugar-0.9.1\n",
      "collecting ... collected 3 items\n",
      "\n",
      "comparer.py::test_standing_costs_1_year <- <ipython-input-20-1d60254654f3> PASSED                                                      [ 33%]\n",
      "comparer.py::test_standing_costs_insurance_3_years <- <ipython-input-20-1d60254654f3> PASSED                                           [ 66%]\n",
      "comparer.py::test_standing_costs_rego_10_years <- <ipython-input-20-1d60254654f3> PASSED                                               [100%]\n",
      "\n",
      "============================================================== warnings summary ==============================================================\n",
      "<undetermined location>\n",
      "  Module already imported so cannot be rewritten: pytest_sugar\n",
      "\n",
      "-- Docs: https://docs.pytest.org/en/latest/warnings.html\n",
      "==================================================== 3 passed, 1 warnings in 0.07 seconds ====================================================\n"
     ]
    }
   ],
   "source": [
    "%%run_pytest[clean] -v --tb=line\n",
    "\n",
    "def test_standing_costs_1_year():\n",
    "    actual = StandingCosts(years=1, cpi=0.02, insurance_per_year=100, registration_per_year=200, roadside_assist_per_year=150)\n",
    "    np.testing.assert_allclose(100, actual.insurance_per_year)\n",
    "    np.testing.assert_allclose(200, actual.registration_per_year)\n",
    "    np.testing.assert_allclose(150, actual.roadside_assist_per_year)\n",
    "    \n",
    "def test_standing_costs_insurance_3_years():\n",
    "    actual = StandingCosts(years=3, cpi=0.02, insurance_per_year=100, registration_per_year=200, roadside_assist_per_year=150)\n",
    "    expected = compound_interest(principal=100, annual_rate=0.02, years=3)\n",
    "    np.testing.assert_allclose(expected, actual.insurance_per_year)\n",
    "    \n",
    "def test_standing_costs_rego_10_years():\n",
    "    actual = StandingCosts(years=10, cpi=0.02, insurance_per_year=100, registration_per_year=500, roadside_assist_per_year=150)\n",
    "    expected = compound_interest(principal=500, annual_rate=0.02, years=10)\n",
    "    np.testing.assert_allclose(expected, actual.registration_per_year)\n",
    "    "
   ]
  },
  {
   "cell_type": "code",
   "execution_count": null,
   "metadata": {},
   "outputs": [],
   "source": []
  }
 ],
 "metadata": {
  "extensions": {
   "jupyter_dashboards": {
    "activeView": "grid_default",
    "version": 1,
    "views": {
     "grid_default": {
      "cellMargin": 10,
      "defaultCellHeight": 20,
      "maxColumns": 12,
      "name": "grid",
      "type": "grid"
     },
     "report_default": {
      "name": "report",
      "type": "report"
     }
    }
   }
  },
  "kernelspec": {
   "display_name": "Python 3",
   "language": "python",
   "name": "python3"
  },
  "language_info": {
   "codemirror_mode": {
    "name": "ipython",
    "version": 3
   },
   "file_extension": ".py",
   "mimetype": "text/x-python",
   "name": "python",
   "nbconvert_exporter": "python",
   "pygments_lexer": "ipython3",
   "version": "3.6.5"
  }
 },
 "nbformat": 4,
 "nbformat_minor": 2
}
