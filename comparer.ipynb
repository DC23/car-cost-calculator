{
 "cells": [
  {
   "cell_type": "markdown",
   "metadata": {},
   "source": [
    "# Setup"
   ]
  },
  {
   "cell_type": "code",
   "execution_count": 2,
   "metadata": {
    "extensions": {
     "jupyter_dashboards": {
      "version": 1,
      "views": {
       "grid_default": {},
       "report_default": {}
      }
     }
    }
   },
   "outputs": [],
   "source": [
    "import matplotlib\n",
    "import matplotlib.pyplot as plt\n",
    "import numpy as np\n",
    "import pandas as pd\n",
    "import plotly.offline as py\n",
    "import plotly.graph_objs as go\n",
    "import pytest as pt\n",
    "\n",
    "from datetime import datetime\n",
    "\n",
    "import car_cost_calculator as ccc"
   ]
  },
  {
   "cell_type": "code",
   "execution_count": null,
   "metadata": {},
   "outputs": [],
   "source": [
    "np.set_printoptions(suppress=True)"
   ]
  },
  {
   "cell_type": "code",
   "execution_count": null,
   "metadata": {
    "extensions": {
     "jupyter_dashboards": {
      "version": 1,
      "views": {
       "grid_default": {},
       "report_default": {}
      }
     }
    }
   },
   "outputs": [],
   "source": [
    "# matplotlib configuration\n",
    "%matplotlib inline\n",
    "matplotlib.style.use('bmh')\n",
    "\n",
    "# Common Plotly configuration\n",
    "py.init_notebook_mode(connected=True)\n",
    "config={\n",
    "    'showLink': False,\n",
    "    'modeBarButtonsToRemove': ['sendDataToCloud', 'hoverClosestCartesian', 'hoverCompareCartesian'],\n",
    "}"
   ]
  },
  {
   "cell_type": "code",
   "execution_count": 4,
   "metadata": {},
   "outputs": [],
   "source": [
    "def line_chart(y, x=None):\n",
    "    py.iplot([{'y':y, 'x':x}], config=config)"
   ]
  },
  {
   "cell_type": "markdown",
   "metadata": {
    "extensions": {
     "jupyter_dashboards": {
      "version": 1,
      "views": {
       "grid_default": {},
       "report_default": {}
      }
     }
    }
   },
   "source": [
    "# Assumptions"
   ]
  },
  {
   "cell_type": "code",
   "execution_count": null,
   "metadata": {
    "extensions": {
     "jupyter_dashboards": {
      "version": 1,
      "views": {
       "grid_default": {},
       "report_default": {}
      }
     }
    }
   },
   "outputs": [],
   "source": [
    "cpi = 0.02\n",
    "km_per_year = 15000\n",
    "cost_per_tyre = 350\n",
    "tyre_life_km = 45000\n",
    "fuel_cost_per_litre = 1.50\n",
    "fuel_efficiency_litres_per_100km = 7.0\n",
    "\n",
    "purchase_price = 35000\n",
    "age_at_purchase = 0\n",
    "years_to_model = 15"
   ]
  },
  {
   "cell_type": "markdown",
   "metadata": {},
   "source": [
    "# Running Costs\n",
    "Costs that depend on distance travelled.\n",
    "\n",
    "* service_cost = 400,\n",
    "* service_interval_km = 10000,\n",
    "* service_interval_years = 1.0,"
   ]
  },
  {
   "cell_type": "markdown",
   "metadata": {},
   "source": [
    "## To Do: move fuel cost into `RunningCosts` class"
   ]
  },
  {
   "cell_type": "code",
   "execution_count": null,
   "metadata": {},
   "outputs": [],
   "source": [
    "class RunningCosts():\n",
    "    pass"
   ]
  },
  {
   "cell_type": "markdown",
   "metadata": {
    "extensions": {
     "jupyter_dashboards": {
      "version": 1,
      "views": {
       "grid_default": {},
       "report_default": {}
      }
     }
    }
   },
   "source": [
    "# Standing Costs\n",
    "Costs that do not depend on distance travelled."
   ]
  },
  {
   "cell_type": "code",
   "execution_count": null,
   "metadata": {},
   "outputs": [],
   "source": [
    "class StandingCosts():\n",
    "    '''Represents the static costs, which are not dependent on distance travelled'''\n",
    "    \n",
    "    def __init__(\n",
    "        self,\n",
    "        years = 1,\n",
    "        cpi = 0.02,\n",
    "        insurance_per_year = 500,\n",
    "        registration_per_year = 500,\n",
    "        roadside_assist_per_year = 200):\n",
    "        '''Initialise the standing costs object'''\n",
    "        self.insurance_per_year = compound_interest(principal=insurance_per_year, annual_rate=cpi, years=years, compounds_per_year=1)\n",
    "        self.registration_per_year = compound_interest(principal=registration_per_year, annual_rate=cpi, years=years, compounds_per_year=1)\n",
    "        self.roadside_assist_per_year = compound_interest(principal=roadside_assist_per_year, annual_rate=cpi, years=years, compounds_per_year=1)"
   ]
  },
  {
   "cell_type": "code",
   "execution_count": null,
   "metadata": {},
   "outputs": [],
   "source": [
    "%%run_pytest[clean] -v --tb=line\n",
    "\n",
    "def test_standing_costs_1_year():\n",
    "    actual = StandingCosts(years=1, cpi=0.02, insurance_per_year=100, registration_per_year=200, roadside_assist_per_year=150)\n",
    "    np.testing.assert_allclose(100, actual.insurance_per_year)\n",
    "    np.testing.assert_allclose(200, actual.registration_per_year)\n",
    "    np.testing.assert_allclose(150, actual.roadside_assist_per_year)\n",
    "    \n",
    "def test_standing_costs_insurance_3_years():\n",
    "    actual = StandingCosts(years=3, cpi=0.02, insurance_per_year=100, registration_per_year=200, roadside_assist_per_year=150)\n",
    "    expected = compound_interest(principal=100, annual_rate=0.02, years=3)\n",
    "    np.testing.assert_allclose(expected, actual.insurance_per_year)\n",
    "    \n",
    "def test_standing_costs_rego_10_years():\n",
    "    actual = StandingCosts(years=10, cpi=0.02, insurance_per_year=100, registration_per_year=500, roadside_assist_per_year=150)\n",
    "    expected = compound_interest(principal=500, annual_rate=0.02, years=10)\n",
    "    np.testing.assert_allclose(expected, actual.registration_per_year)\n",
    "    "
   ]
  },
  {
   "cell_type": "code",
   "execution_count": null,
   "metadata": {},
   "outputs": [],
   "source": []
  }
 ],
 "metadata": {
  "extensions": {
   "jupyter_dashboards": {
    "activeView": "grid_default",
    "version": 1,
    "views": {
     "grid_default": {
      "cellMargin": 10,
      "defaultCellHeight": 20,
      "maxColumns": 12,
      "name": "grid",
      "type": "grid"
     },
     "report_default": {
      "name": "report",
      "type": "report"
     }
    }
   }
  },
  "kernelspec": {
   "display_name": "Python 3",
   "language": "python",
   "name": "python3"
  },
  "language_info": {
   "codemirror_mode": {
    "name": "ipython",
    "version": 3
   },
   "file_extension": ".py",
   "mimetype": "text/x-python",
   "name": "python",
   "nbconvert_exporter": "python",
   "pygments_lexer": "ipython3",
   "version": "3.6.5"
  }
 },
 "nbformat": 4,
 "nbformat_minor": 2
}
