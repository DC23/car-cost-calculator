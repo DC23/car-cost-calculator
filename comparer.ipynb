{
 "cells": [
  {
   "cell_type": "markdown",
   "metadata": {},
   "source": [
    "# Setup"
   ]
  },
  {
   "cell_type": "code",
   "execution_count": 13,
   "metadata": {
    "extensions": {
     "jupyter_dashboards": {
      "version": 1,
      "views": {
       "grid_default": {},
       "report_default": {}
      }
     }
    }
   },
   "outputs": [],
   "source": [
    "import matplotlib\n",
    "import numpy as np\n",
    "import pandas as pd\n",
    "import plotly.offline as py\n",
    "import plotly.graph_objs as go\n",
    "\n",
    "from ipywidgets import interact, widgets\n",
    "\n",
    "from car_cost_calculator.car_costs import CarCosts\n",
    "from car_cost_calculator.running_costs import RunningCosts\n",
    "from car_cost_calculator.depreciation import TwoStageRate"
   ]
  },
  {
   "cell_type": "code",
   "execution_count": 14,
   "metadata": {},
   "outputs": [],
   "source": [
    "np.set_printoptions(suppress=True)"
   ]
  },
  {
   "cell_type": "code",
   "execution_count": 15,
   "metadata": {
    "extensions": {
     "jupyter_dashboards": {
      "version": 1,
      "views": {
       "grid_default": {},
       "report_default": {}
      }
     }
    }
   },
   "outputs": [
    {
     "data": {
      "text/html": [
       "<script>requirejs.config({paths: { 'plotly': ['https://cdn.plot.ly/plotly-latest.min']},});if(!window.Plotly) {{require(['plotly'],function(plotly) {window.Plotly=plotly;});}}</script>"
      ],
      "text/vnd.plotly.v1+html": [
       "<script>requirejs.config({paths: { 'plotly': ['https://cdn.plot.ly/plotly-latest.min']},});if(!window.Plotly) {{require(['plotly'],function(plotly) {window.Plotly=plotly;});}}</script>"
      ]
     },
     "metadata": {},
     "output_type": "display_data"
    }
   ],
   "source": [
    "# matplotlib configuration\n",
    "%matplotlib inline\n",
    "matplotlib.style.use('seaborn-darkgrid')\n",
    "\n",
    "# Common Plotly configuration\n",
    "py.init_notebook_mode(connected=True)\n",
    "config={\n",
    "    'showLink': False,\n",
    "    'modeBarButtonsToRemove': ['sendDataToCloud', 'hoverClosestCartesian', 'hoverCompareCartesian'],\n",
    "}"
   ]
  },
  {
   "cell_type": "code",
   "execution_count": 16,
   "metadata": {},
   "outputs": [],
   "source": [
    "def line_chart(y, x=None):\n",
    "    py.iplot([{'y':y, 'x':x}], config=config)"
   ]
  },
  {
   "cell_type": "code",
   "execution_count": 19,
   "metadata": {},
   "outputs": [],
   "source": [
    "cost_order = ['depreciation', 'fuel', 'service', 'registration', 'insurance', 'tyres', 'roadside_assist', 'detailing']"
   ]
  },
  {
   "cell_type": "code",
   "execution_count": 20,
   "metadata": {
    "scrolled": false
   },
   "outputs": [
    {
     "data": {
      "application/vnd.jupyter.widget-view+json": {
       "model_id": "48cafb6319df47bfbdce18d88b7e24bf",
       "version_major": 2,
       "version_minor": 0
      },
      "text/plain": [
       "interactive(children=(IntSlider(value=35000, description='purchase', max=100000, step=1000), IntSlider(value=0…"
      ]
     },
     "metadata": {},
     "output_type": "display_data"
    }
   ],
   "source": [
    "@interact(\n",
    "    use_matplotlib=widgets.Checkbox(value=False, description='Use matplotlib'),\n",
    "    purchase=(0, 100000, 1000),\n",
    "    fuel_economy=(0, 20, 0.1),\n",
    "    km_per_year=(0, 100000, 1000),\n",
    "    age=(0, 10, 1)\n",
    ")\n",
    "def explore(\n",
    "    purchase=35000,\n",
    "    age=0,\n",
    "    fuel_economy=8.0,\n",
    "    km_per_year=15000,\n",
    "    use_matplotlib=False\n",
    "):\n",
    "    \n",
    "    cc = CarCosts(\n",
    "        initial_vehicle_value=purchase,\n",
    "        initial_vehicle_age=age,\n",
    "        depreciation_rate=TwoStageRate(\n",
    "            stage_1_rate=0.15, stage_2_rate=0.1, breakpoint=3),\n",
    "        years=10,\n",
    "        km_per_year=km_per_year,\n",
    "        litres_per_100km=fuel_economy,\n",
    "        inflation=0.02,\n",
    "        initial_fuel_price=1.50,\n",
    "        initial_service_cost=350,\n",
    "        service_interval_km=10000,\n",
    "        service_interval_years=1,\n",
    "        tyre_replacement_interval=30000,\n",
    "        initial_cost_per_tyre=300)\n",
    "    \n",
    "    cc.yearly_costs.index += 1\n",
    "    \n",
    "    if use_matplotlib:\n",
    "        cc.yearly_costs.plot.bar(stacked=True, figsize=(12,10))\n",
    "    else:\n",
    "        yc = cc.yearly_costs\n",
    "        data = [go.Bar(x=cc.yearly_costs.index, y=cc.yearly_costs[cost], name=cost) for cost in cost_order]\n",
    "        layout = go.Layout(barmode='stack', title='Yearly Costs')\n",
    "        fig = go.Figure(layout=layout, data=data)\n",
    "        py.iplot(fig, config=config)"
   ]
  },
  {
   "cell_type": "code",
   "execution_count": null,
   "metadata": {},
   "outputs": [],
   "source": []
  }
 ],
 "metadata": {
  "extensions": {
   "jupyter_dashboards": {
    "activeView": "grid_default",
    "version": 1,
    "views": {
     "grid_default": {
      "cellMargin": 10,
      "defaultCellHeight": 20,
      "maxColumns": 12,
      "name": "grid",
      "type": "grid"
     },
     "report_default": {
      "name": "report",
      "type": "report"
     }
    }
   }
  },
  "kernelspec": {
   "display_name": "Python 3",
   "language": "python",
   "name": "python3"
  },
  "language_info": {
   "codemirror_mode": {
    "name": "ipython",
    "version": 3
   },
   "file_extension": ".py",
   "mimetype": "text/x-python",
   "name": "python",
   "nbconvert_exporter": "python",
   "pygments_lexer": "ipython3",
   "version": "3.6.5"
  }
 },
 "nbformat": 4,
 "nbformat_minor": 2
}
