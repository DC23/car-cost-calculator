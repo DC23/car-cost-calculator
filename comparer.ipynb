{
 "cells": [
  {
   "cell_type": "markdown",
   "metadata": {},
   "source": [
    "# Setup"
   ]
  },
  {
   "cell_type": "code",
   "execution_count": 1,
   "metadata": {
    "extensions": {
     "jupyter_dashboards": {
      "version": 1,
      "views": {
       "grid_default": {},
       "report_default": {}
      }
     }
    }
   },
   "outputs": [],
   "source": [
    "import matplotlib\n",
    "import matplotlib.pyplot as plt\n",
    "import numpy as np\n",
    "import pandas as pd\n",
    "import plotly.offline as py\n",
    "import plotly.graph_objs as go\n",
    "import pytest as pt\n",
    "\n",
    "from datetime import datetime\n",
    "\n",
    "from car_cost_calculator.running_costs import RunningCosts\n",
    "from car_cost_calculator.depreciation import TwoStageRate"
   ]
  },
  {
   "cell_type": "code",
   "execution_count": 2,
   "metadata": {},
   "outputs": [],
   "source": [
    "np.set_printoptions(suppress=True)"
   ]
  },
  {
   "cell_type": "code",
   "execution_count": 3,
   "metadata": {
    "extensions": {
     "jupyter_dashboards": {
      "version": 1,
      "views": {
       "grid_default": {},
       "report_default": {}
      }
     }
    }
   },
   "outputs": [
    {
     "data": {
      "text/html": [
       "<script>requirejs.config({paths: { 'plotly': ['https://cdn.plot.ly/plotly-latest.min']},});if(!window.Plotly) {{require(['plotly'],function(plotly) {window.Plotly=plotly;});}}</script>"
      ],
      "text/vnd.plotly.v1+html": [
       "<script>requirejs.config({paths: { 'plotly': ['https://cdn.plot.ly/plotly-latest.min']},});if(!window.Plotly) {{require(['plotly'],function(plotly) {window.Plotly=plotly;});}}</script>"
      ]
     },
     "metadata": {},
     "output_type": "display_data"
    }
   ],
   "source": [
    "# matplotlib configuration\n",
    "%matplotlib inline\n",
    "matplotlib.style.use('bmh')\n",
    "\n",
    "# Common Plotly configuration\n",
    "py.init_notebook_mode(connected=True)\n",
    "config={\n",
    "    'showLink': False,\n",
    "    'modeBarButtonsToRemove': ['sendDataToCloud', 'hoverClosestCartesian', 'hoverCompareCartesian'],\n",
    "}"
   ]
  },
  {
   "cell_type": "code",
   "execution_count": 4,
   "metadata": {},
   "outputs": [],
   "source": [
    "def line_chart(y, x=None):\n",
    "    py.iplot([{'y':y, 'x':x}], config=config)"
   ]
  },
  {
   "cell_type": "code",
   "execution_count": 30,
   "metadata": {},
   "outputs": [],
   "source": [
    "actual = RunningCosts(\n",
    "        initial_vehicle_value=43000,\n",
    "        initial_vehicle_age=0,\n",
    "        depreciation_rate=TwoStageRate(\n",
    "            stage_1_rate=0.23, stage_2_rate=0.1, breakpoint=3),\n",
    "        years=10,\n",
    "        km_per_year=15000,\n",
    "        litres_per_100km=16.0,\n",
    "        inflation=0.02,\n",
    "        initial_fuel_price=1.50,\n",
    "        initial_service_cost=350,\n",
    "        service_interval_km=10000,\n",
    "        service_interval_years=1,\n",
    "        tyre_replacement_interval=40000,\n",
    "        initial_cost_per_tyre=300)"
   ]
  },
  {
   "cell_type": "code",
   "execution_count": 31,
   "metadata": {},
   "outputs": [
    {
     "data": {
      "application/vnd.plotly.v1+json": {
       "data": [
        {
         "type": "scatter",
         "uid": "3beb75a8-b048-11e8-b1ba-0800274b61a7",
         "y": [
          43000,
          33110,
          25494.7,
          19630.919,
          17667.827100000002,
          15901.044390000003,
          14310.939951000002,
          12879.845955900002,
          11591.861360310002,
          10432.675224279003
         ]
        }
       ],
       "layout": {}
      },
      "text/html": [
       "<div id=\"105057fc-d93e-450e-a331-562c4439b57c\" style=\"height: 525px; width: 100%;\" class=\"plotly-graph-div\"></div><script type=\"text/javascript\">require([\"plotly\"], function(Plotly) { window.PLOTLYENV=window.PLOTLYENV || {};window.PLOTLYENV.BASE_URL=\"https://plot.ly\";Plotly.newPlot(\"105057fc-d93e-450e-a331-562c4439b57c\", [{\"y\": [43000.0, 33110.0, 25494.7, 19630.919, 17667.827100000002, 15901.044390000003, 14310.939951000002, 12879.845955900002, 11591.861360310002, 10432.675224279003], \"type\": \"scatter\", \"uid\": \"3beb75a9-b048-11e8-b1ba-0800274b61a7\"}], {}, {\"showLink\": false, \"linkText\": \"Export to plot.ly\", \"modeBarButtonsToRemove\": [\"sendDataToCloud\", \"hoverClosestCartesian\", \"hoverCompareCartesian\"]})});</script>"
      ],
      "text/vnd.plotly.v1+html": [
       "<div id=\"105057fc-d93e-450e-a331-562c4439b57c\" style=\"height: 525px; width: 100%;\" class=\"plotly-graph-div\"></div><script type=\"text/javascript\">require([\"plotly\"], function(Plotly) { window.PLOTLYENV=window.PLOTLYENV || {};window.PLOTLYENV.BASE_URL=\"https://plot.ly\";Plotly.newPlot(\"105057fc-d93e-450e-a331-562c4439b57c\", [{\"y\": [43000.0, 33110.0, 25494.7, 19630.919, 17667.827100000002, 15901.044390000003, 14310.939951000002, 12879.845955900002, 11591.861360310002, 10432.675224279003], \"type\": \"scatter\", \"uid\": \"3beb75a9-b048-11e8-b1ba-0800274b61a7\"}], {}, {\"showLink\": false, \"linkText\": \"Export to plot.ly\", \"modeBarButtonsToRemove\": [\"sendDataToCloud\", \"hoverClosestCartesian\", \"hoverCompareCartesian\"]})});</script>"
      ]
     },
     "metadata": {},
     "output_type": "display_data"
    }
   ],
   "source": [
    "line_chart(actual.depreciated_value)"
   ]
  },
  {
   "cell_type": "code",
   "execution_count": null,
   "metadata": {},
   "outputs": [],
   "source": []
  }
 ],
 "metadata": {
  "extensions": {
   "jupyter_dashboards": {
    "activeView": "grid_default",
    "version": 1,
    "views": {
     "grid_default": {
      "cellMargin": 10,
      "defaultCellHeight": 20,
      "maxColumns": 12,
      "name": "grid",
      "type": "grid"
     },
     "report_default": {
      "name": "report",
      "type": "report"
     }
    }
   }
  },
  "kernelspec": {
   "display_name": "Python 3",
   "language": "python",
   "name": "python3"
  },
  "language_info": {
   "codemirror_mode": {
    "name": "ipython",
    "version": 3
   },
   "file_extension": ".py",
   "mimetype": "text/x-python",
   "name": "python",
   "nbconvert_exporter": "python",
   "pygments_lexer": "ipython3",
   "version": "3.6.5"
  }
 },
 "nbformat": 4,
 "nbformat_minor": 2
}
