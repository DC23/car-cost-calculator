{
 "cells": [
  {
   "cell_type": "code",
   "execution_count": 1,
   "metadata": {
    "extensions": {
     "jupyter_dashboards": {
      "version": 1,
      "views": {
       "grid_default": {},
       "report_default": {}
      }
     }
    }
   },
   "outputs": [],
   "source": [
    "import matplotlib\n",
    "import matplotlib.pyplot as plt\n",
    "import numpy as np\n",
    "import pandas as pd\n",
    "import plotly.offline as py\n",
    "import plotly.graph_objs as go\n",
    "\n",
    "from datetime import datetime"
   ]
  },
  {
   "cell_type": "code",
   "execution_count": 2,
   "metadata": {
    "extensions": {
     "jupyter_dashboards": {
      "version": 1,
      "views": {
       "grid_default": {},
       "report_default": {}
      }
     }
    }
   },
   "outputs": [
    {
     "data": {
      "text/html": [
       "<script>requirejs.config({paths: { 'plotly': ['https://cdn.plot.ly/plotly-latest.min']},});if(!window.Plotly) {{require(['plotly'],function(plotly) {window.Plotly=plotly;});}}</script>"
      ],
      "text/vnd.plotly.v1+html": [
       "<script>requirejs.config({paths: { 'plotly': ['https://cdn.plot.ly/plotly-latest.min']},});if(!window.Plotly) {{require(['plotly'],function(plotly) {window.Plotly=plotly;});}}</script>"
      ]
     },
     "metadata": {},
     "output_type": "display_data"
    }
   ],
   "source": [
    "# matplotlib configuration\n",
    "%matplotlib inline\n",
    "matplotlib.style.use('bmh')\n",
    "\n",
    "\n",
    "# Common Plotly configuration\n",
    "py.init_notebook_mode(connected=True)\n",
    "config={\n",
    "    'showLink': False,\n",
    "    'modeBarButtonsToRemove': ['sendDataToCloud', 'hoverClosestCartesian', 'hoverCompareCartesian'],\n",
    "}"
   ]
  },
  {
   "cell_type": "markdown",
   "metadata": {
    "extensions": {
     "jupyter_dashboards": {
      "version": 1,
      "views": {
       "grid_default": {},
       "report_default": {}
      }
     }
    }
   },
   "source": [
    "## Assumptions"
   ]
  },
  {
   "cell_type": "code",
   "execution_count": 16,
   "metadata": {
    "extensions": {
     "jupyter_dashboards": {
      "version": 1,
      "views": {
       "grid_default": {},
       "report_default": {}
      }
     }
    }
   },
   "outputs": [],
   "source": [
    "cpi = 0.03\n",
    "km_per_year = 15000\n",
    "cost_per_tyre = 350\n",
    "tyre_life_km = 45000\n",
    "fuel_cost_per_litre = 1.50\n",
    "fuel_litres_per_100km = 7.0\n",
    "\n",
    "purchase_price = 35000\n",
    "age_at_purchase = 0\n",
    "years_to_model = 15"
   ]
  },
  {
   "cell_type": "markdown",
   "metadata": {
    "extensions": {
     "jupyter_dashboards": {
      "version": 1,
      "views": {
       "grid_default": {},
       "report_default": {}
      }
     }
    }
   },
   "source": [
    "## Standing Costs"
   ]
  },
  {
   "cell_type": "code",
   "execution_count": 17,
   "metadata": {},
   "outputs": [],
   "source": [
    "insurance_per_year = 500\n",
    "registration_per_year = 500\n",
    "service_cost = 400\n",
    "service_interval_km = 10000\n",
    "service_interval_years = 1.0\n",
    "roadside_assist_per_year = 200"
   ]
  },
  {
   "cell_type": "markdown",
   "metadata": {
    "extensions": {
     "jupyter_dashboards": {
      "version": 1,
      "views": {
       "grid_default": {},
       "report_default": {}
      }
     }
    }
   },
   "source": [
    "## Depreciation functions"
   ]
  },
  {
   "cell_type": "code",
   "execution_count": 18,
   "metadata": {
    "extensions": {
     "jupyter_dashboards": {
      "version": 1,
      "views": {
       "grid_default": {},
       "report_default": {}
      }
     }
    }
   },
   "outputs": [],
   "source": [
    "def depreciation_rate_for_age(age_in_years):\n",
    "    '''Go with the simple assumption of 15% for first 3 years, and 10% after that.\n",
    "       This might be too aggressive, but can fine-tune later.\n",
    "    '''\n",
    "    if age_in_years < 3:\n",
    "        return 0.15\n",
    "    else:\n",
    "        return 0.10"
   ]
  },
  {
   "cell_type": "markdown",
   "metadata": {
    "extensions": {
     "jupyter_dashboards": {
      "version": 1,
      "views": {
       "grid_default": {},
       "report_default": {}
      }
     }
    }
   },
   "source": [
    "### Calculate Depreciation"
   ]
  },
  {
   "cell_type": "code",
   "execution_count": 19,
   "metadata": {
    "extensions": {
     "jupyter_dashboards": {
      "version": 1,
      "views": {
       "grid_default": {},
       "report_default": {}
      }
     }
    }
   },
   "outputs": [],
   "source": [
    "dep_value = np.zeros(years_to_model)\n",
    "yearly_depreciation_cost = np.zeros(years_to_model)\n",
    "dep_value[0] = purchase_price\n",
    "previous = dep_value[0]\n",
    "for yr in range(1, years_to_model):\n",
    "    previous *= (1.0 - depreciation_rate_for_age(age_at_purchase + yr))\n",
    "    dep_value[yr] = previous\n",
    "    yearly_depreciation_cost[yr-1] = dep_value[yr-1] - dep_value[yr]"
   ]
  },
  {
   "cell_type": "code",
   "execution_count": 20,
   "metadata": {},
   "outputs": [
    {
     "data": {
      "application/vnd.plotly.v1+json": {
       "data": [
        {
         "type": "scatter",
         "uid": "605b3102-a9b4-11e8-bb97-0800279fead2",
         "y": [
          35000,
          29750,
          25287.5,
          22758.75,
          20482.875,
          18434.5875,
          16591.128750000003,
          14932.015875000003,
          13438.814287500003,
          12094.932858750002,
          10885.439572875002,
          9796.895615587502,
          8817.206054028753,
          7935.485448625878,
          7141.9369037632905
         ]
        }
       ],
       "layout": {}
      },
      "text/html": [
       "<div id=\"a6c94da7-e6fd-48bc-9777-35edabc245a1\" style=\"height: 525px; width: 100%;\" class=\"plotly-graph-div\"></div><script type=\"text/javascript\">require([\"plotly\"], function(Plotly) { window.PLOTLYENV=window.PLOTLYENV || {};window.PLOTLYENV.BASE_URL=\"https://plot.ly\";Plotly.newPlot(\"a6c94da7-e6fd-48bc-9777-35edabc245a1\", [{\"y\": [35000.0, 29750.0, 25287.5, 22758.75, 20482.875, 18434.5875, 16591.128750000003, 14932.015875000003, 13438.814287500003, 12094.932858750002, 10885.439572875002, 9796.895615587502, 8817.206054028753, 7935.485448625878, 7141.9369037632905], \"type\": \"scatter\", \"uid\": \"605b3103-a9b4-11e8-bb97-0800279fead2\"}], {}, {\"showLink\": false, \"linkText\": \"Export to plot.ly\", \"modeBarButtonsToRemove\": [\"sendDataToCloud\", \"hoverClosestCartesian\", \"hoverCompareCartesian\"]})});</script>"
      ],
      "text/vnd.plotly.v1+html": [
       "<div id=\"a6c94da7-e6fd-48bc-9777-35edabc245a1\" style=\"height: 525px; width: 100%;\" class=\"plotly-graph-div\"></div><script type=\"text/javascript\">require([\"plotly\"], function(Plotly) { window.PLOTLYENV=window.PLOTLYENV || {};window.PLOTLYENV.BASE_URL=\"https://plot.ly\";Plotly.newPlot(\"a6c94da7-e6fd-48bc-9777-35edabc245a1\", [{\"y\": [35000.0, 29750.0, 25287.5, 22758.75, 20482.875, 18434.5875, 16591.128750000003, 14932.015875000003, 13438.814287500003, 12094.932858750002, 10885.439572875002, 9796.895615587502, 8817.206054028753, 7935.485448625878, 7141.9369037632905], \"type\": \"scatter\", \"uid\": \"605b3103-a9b4-11e8-bb97-0800279fead2\"}], {}, {\"showLink\": false, \"linkText\": \"Export to plot.ly\", \"modeBarButtonsToRemove\": [\"sendDataToCloud\", \"hoverClosestCartesian\", \"hoverCompareCartesian\"]})});</script>"
      ]
     },
     "metadata": {},
     "output_type": "display_data"
    }
   ],
   "source": [
    "py.iplot([{'y':dep_value}], config=config)"
   ]
  },
  {
   "cell_type": "code",
   "execution_count": 21,
   "metadata": {},
   "outputs": [
    {
     "data": {
      "application/vnd.plotly.v1+json": {
       "data": [
        {
         "type": "scatter",
         "uid": "639b51e4-a9b4-11e8-bb97-0800279fead2",
         "y": [
          5250,
          4462.5,
          2528.75,
          2275.875,
          2048.2874999999985,
          1843.458749999998,
          1659.1128750000007,
          1493.2015874999997,
          1343.8814287500009,
          1209.4932858749999,
          1088.5439572875002,
          979.6895615587491,
          881.7206054028748,
          793.5485448625877,
          0
         ]
        }
       ],
       "layout": {}
      },
      "text/html": [
       "<div id=\"3c0633ef-b598-4b11-af9b-8b7dc397449b\" style=\"height: 525px; width: 100%;\" class=\"plotly-graph-div\"></div><script type=\"text/javascript\">require([\"plotly\"], function(Plotly) { window.PLOTLYENV=window.PLOTLYENV || {};window.PLOTLYENV.BASE_URL=\"https://plot.ly\";Plotly.newPlot(\"3c0633ef-b598-4b11-af9b-8b7dc397449b\", [{\"y\": [5250.0, 4462.5, 2528.75, 2275.875, 2048.2874999999985, 1843.458749999998, 1659.1128750000007, 1493.2015874999997, 1343.8814287500009, 1209.4932858749999, 1088.5439572875002, 979.6895615587491, 881.7206054028748, 793.5485448625877, 0.0], \"type\": \"scatter\", \"uid\": \"639b51e5-a9b4-11e8-bb97-0800279fead2\"}], {}, {\"showLink\": false, \"linkText\": \"Export to plot.ly\", \"modeBarButtonsToRemove\": [\"sendDataToCloud\", \"hoverClosestCartesian\", \"hoverCompareCartesian\"]})});</script>"
      ],
      "text/vnd.plotly.v1+html": [
       "<div id=\"3c0633ef-b598-4b11-af9b-8b7dc397449b\" style=\"height: 525px; width: 100%;\" class=\"plotly-graph-div\"></div><script type=\"text/javascript\">require([\"plotly\"], function(Plotly) { window.PLOTLYENV=window.PLOTLYENV || {};window.PLOTLYENV.BASE_URL=\"https://plot.ly\";Plotly.newPlot(\"3c0633ef-b598-4b11-af9b-8b7dc397449b\", [{\"y\": [5250.0, 4462.5, 2528.75, 2275.875, 2048.2874999999985, 1843.458749999998, 1659.1128750000007, 1493.2015874999997, 1343.8814287500009, 1209.4932858749999, 1088.5439572875002, 979.6895615587491, 881.7206054028748, 793.5485448625877, 0.0], \"type\": \"scatter\", \"uid\": \"639b51e5-a9b4-11e8-bb97-0800279fead2\"}], {}, {\"showLink\": false, \"linkText\": \"Export to plot.ly\", \"modeBarButtonsToRemove\": [\"sendDataToCloud\", \"hoverClosestCartesian\", \"hoverCompareCartesian\"]})});</script>"
      ]
     },
     "metadata": {},
     "output_type": "display_data"
    }
   ],
   "source": [
    "py.iplot([{'y':yearly_depreciation_cost}], config=config)"
   ]
  },
  {
   "cell_type": "code",
   "execution_count": null,
   "metadata": {},
   "outputs": [],
   "source": []
  }
 ],
 "metadata": {
  "extensions": {
   "jupyter_dashboards": {
    "activeView": "grid_default",
    "version": 1,
    "views": {
     "grid_default": {
      "cellMargin": 10,
      "defaultCellHeight": 20,
      "maxColumns": 12,
      "name": "grid",
      "type": "grid"
     },
     "report_default": {
      "name": "report",
      "type": "report"
     }
    }
   }
  },
  "kernelspec": {
   "display_name": "Python 3",
   "language": "python",
   "name": "python3"
  },
  "language_info": {
   "codemirror_mode": {
    "name": "ipython",
    "version": 3
   },
   "file_extension": ".py",
   "mimetype": "text/x-python",
   "name": "python",
   "nbconvert_exporter": "python",
   "pygments_lexer": "ipython3",
   "version": "3.6.5"
  }
 },
 "nbformat": 4,
 "nbformat_minor": 2
}
